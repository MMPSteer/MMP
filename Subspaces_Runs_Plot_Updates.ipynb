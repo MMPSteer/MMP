{
 "cells": [
  {
   "cell_type": "code",
   "execution_count": null,
   "id": "31ee914d",
   "metadata": {},
   "outputs": [],
   "source": [
    "import warnings\n",
    "warnings.filterwarnings('ignore')"
   ]
  },
  {
   "cell_type": "code",
   "execution_count": null,
   "id": "ab47bdd4",
   "metadata": {},
   "outputs": [],
   "source": [
    "import sys\n",
    "import os\n",
    "\n",
    "cloned_repo_path = os.path.abspath('')# insert path here\n",
    "sys.path.insert(0, cloned_repo_path)\n",
    "cloned_repo_path = os.path.abspath('.')\n",
    "sys.path.insert(0, cloned_repo_path)"
   ]
  },
  {
   "cell_type": "code",
   "execution_count": null,
   "id": "64205ae8",
   "metadata": {},
   "outputs": [],
   "source": [
    "import os\n",
    "import glob\n",
    "import json\n",
    "import pickle \n",
    "import stumpy\n",
    "import numpy as np\n",
    "import pandas as pd\n",
    "from tqdm.notebook import tqdm\n",
    "\n",
    "import seaborn as sns\n",
    "import matplotlib.pyplot as plt\n",
    "from statsmodels.tsa.seasonal import STL"
   ]
  },
  {
   "cell_type": "markdown",
   "id": "11d9de64",
   "metadata": {},
   "source": [
    "## Helping Functions"
   ]
  },
  {
   "cell_type": "code",
   "execution_count": null,
   "id": "ea01ed61",
   "metadata": {},
   "outputs": [],
   "source": [
    "def create_directory(directory=\"Results\"):\n",
    "    if not os.path.exists(directory):\n",
    "        os.makedirs(directory)\n",
    "        print(\"Directory Created Successfully\")\n",
    "    \n",
    "    else:\n",
    "        print(\"Directory Already Exists\")"
   ]
  },
  {
   "cell_type": "code",
   "execution_count": null,
   "id": "1e04eb04",
   "metadata": {},
   "outputs": [],
   "source": [
    "def calculate_and_visualize_mdls(mps, indices, filepath, m=2016):\n",
    "    motifs_idx = np.argmin(mps, axis=1)\n",
    "\n",
    "    # Getting the nearest neighbours of each individual motifs_idx\n",
    "\n",
    "    nn_idx = indices[np.arange(len(motifs_idx)), motifs_idx]\n",
    "\n",
    "    mdls, subspaces = stumpy.mdl(final_data, m, motifs_idx, nn_idx)\n",
    "\n",
    "    print(f\"MDLS:\\n\\t {mdls}\\n\")\n",
    "\n",
    "    print(f\"Subspaces:\\n\\t {subspaces}\\n\")\n",
    "\n",
    "    k = np.argmin(mdls)\n",
    "\n",
    "    print(f\"Suugested Columns For Multidimensional Matrix Profile:\\n\\t {final_data.columns[subspaces[k]]}\\n\")\n",
    "    \n",
    "    plt.plot(np.arange(len(mdls)), mdls, c='red', linewidth='4')\n",
    "    plt.xlabel('k (zero-based)', fontsize='20')\n",
    "    plt.ylabel('Bit Size', fontsize='20')\n",
    "    plt.xticks(range(mps.shape[0]))\n",
    "    \n",
    "    plt.savefig(filepath, transparent=False, bbox_inches='tight')\n",
    "    plt.show()\n",
    "    \n",
    "    return final_data.columns[subspaces[k]].tolist()"
   ]
  },
  {
   "cell_type": "code",
   "execution_count": null,
   "id": "5846b532",
   "metadata": {},
   "outputs": [],
   "source": [
    "def mps_calculations_mstump_m(final_data, filepath, m=2016):\n",
    "    # Calculating Multidimensional Matrix Profile For a weekly rhythm where subsequent length m=2016\n",
    "\n",
    "    mps, indices = stumpy.mstump_m(final_data, m)\n",
    "\n",
    "    # Displaying the shape of MultiDimensional Matrix Profile \n",
    "\n",
    "    print(f\"MPS Shape: {mps.shape}\")\n",
    "\n",
    "    # Getting the motifs_idx based on the standard np.argmin method \n",
    "    motifs_idx = np.argmin(mps, axis=1)\n",
    "\n",
    "    # Displaying the motifs of each dimension\n",
    "    \n",
    "    print(f\"Motif Start Index: {motifs_idx}\")\n",
    "    \n",
    "\n",
    "    # Getting the nearest neighbours o\n",
    "    nn_idx = indices[np.arange(len(motifs_idx)), motifs_idx]\n",
    "    \n",
    "    # Displaying the Nearest Neighbors\n",
    "    \n",
    "    print(f\"Nearest Start Index: {nn_idx}\")\n",
    "\n",
    "\n",
    "    df = final_data.reset_index(drop=True)\n",
    "\n",
    "    # Plotting the dimensions of the time series \n",
    "    fig, axs = plt.subplots(mps.shape[0] * 2, sharex=True, gridspec_kw={'hspace': 0}, figsize=(25, mps.shape[0] * 5))\n",
    "    label = ''\n",
    "    for k, dim_name in enumerate(df.columns):\n",
    "        axs[k].set_ylabel(dim_name, fontsize=10)\n",
    "        axs[k].set_xlabel('Time', fontsize=10) \n",
    "        \n",
    "        axs[k].plot(df[dim_name], label=sensor_id_type_mapping[dim_name])\n",
    " \n",
    "        axs[k].legend(loc=\"upper right\")\n",
    "        \n",
    "        axs[k].plot(range(motifs_idx[k], motifs_idx[k] + m), df[dim_name].iloc[motifs_idx[k] : motifs_idx[k] + m], c='red', linewidth=4)\n",
    "        axs[k].plot(range(nn_idx[k], nn_idx[k] + m), df[dim_name].iloc[nn_idx[k] : nn_idx[k] + m], c='red', linewidth=4)\n",
    "\n",
    "        label = label + ', ' + dim_name\n",
    "        \n",
    "        axs[k].axvline(x=motifs_idx[k], linestyle=\"dashed\", c='black')\n",
    "        axs[k].axvline(x=nn_idx[k], linestyle=\"dashed\", c='black')\n",
    "\n",
    "        axs[k + mps.shape[0]].set_ylabel(f\"P_{k}\", fontsize=10)\n",
    "        axs[k + mps.shape[0]].plot(mps[k], c='orange', label=f\"{label.strip(',')}\")\n",
    "        axs[k + mps.shape[0]].set_xlabel('Time', fontsize=10)    \n",
    "\n",
    "        axs[k + mps.shape[0]].axvline(x=motifs_idx[k], linestyle=\"dashed\", c='black')\n",
    "        axs[k + mps.shape[0]].axvline(x=nn_idx[k], linestyle=\"dashed\", c='black')    \n",
    "\n",
    "        axs[k + mps.shape[0]].plot(motifs_idx[k], mps[k, motifs_idx[k]] + 1, marker=\"v\", markersize=10, color='red')\n",
    "        axs[k + mps.shape[0]].plot(nn_idx[k], mps[k, nn_idx[k]] + 1, marker=\"v\", markersize=10, color='red')\n",
    "        \n",
    "        axs[k + mps.shape[0]].text(motifs_idx[k], mps[k, motifs_idx[k]], f\"{1}m\", fontsize=\"xx-large\")\n",
    "        axs[k + mps.shape[0]].text(nn_idx[k], mps[k, motifs_idx[k]], f\"{1}n\", fontsize=\"xx-large\")\n",
    "        axs[k + mps.shape[0]].legend(loc=\"upper right\")\n",
    "        \n",
    "    plt.savefig(filepath, transparent=False, bbox_inches='tight')\n",
    "    plt.show()\n",
    "    \n",
    "    return mps, indices\n",
    "\n"
   ]
  },
  {
   "cell_type": "code",
   "execution_count": null,
   "id": "10ce3d70",
   "metadata": {},
   "outputs": [],
   "source": [
    "def calculate_nn_for_prev_dimensions(indices, motifs_idx):\n",
    "    nn_idx = indices[np.arange(len(motifs_idx)), motifs_idx]\n",
    "    \n",
    "    return nn_idx"
   ]
  },
  {
   "cell_type": "code",
   "execution_count": null,
   "id": "ecd71b74",
   "metadata": {},
   "outputs": [],
   "source": [
    "def mps_calculates_nn(final_data, mps, indices, filepath, m=2016):\n",
    "    \n",
    "    # Getting the motifs_idx based on the standard np.argmin method \n",
    "    motifs_idx = np.argmin(mps, axis=1)\n",
    "\n",
    "    # Resetting the date index \n",
    "\n",
    "    df = final_data.reset_index(drop=True)\n",
    "\n",
    "    # Plotting the dimensions of the time series \n",
    "    \n",
    "    for i in range(len(df.columns)):\n",
    "        label = ''\n",
    "        fig, axs = plt.subplots(i + 2, sharex=True, gridspec_kw={'hspace': 0}, figsize=(25, (i + 1) * 5))\n",
    "        sub_motifs_idx = [motifs_idx[i]] * (i+1) \n",
    "        nn_idx = calculate_nn_for_prev_dimensions(indices, sub_motifs_idx)\n",
    "        print(sub_motifs_idx)\n",
    "        print(nn_idx)\n",
    "        \n",
    "        for k, dim_name in enumerate(df.columns[:i+1]):\n",
    "\n",
    "            axs[k].set_ylabel(dim_name, fontsize=10)\n",
    "            axs[k].set_xlabel('Time', fontsize=10) \n",
    "\n",
    "            axs[k].plot(df[dim_name], label=sensor_id_type_mapping[dim_name])\n",
    "\n",
    "            axs[k].legend(loc=\"upper right\")\n",
    "\n",
    "            axs[k].plot(range(sub_motifs_idx[k], sub_motifs_idx[k] + m), df[dim_name].iloc[sub_motifs_idx[k] : sub_motifs_idx[k] + m], c='red', linewidth=4)\n",
    "            axs[k].plot(range(nn_idx[k], nn_idx[k] + m), df[dim_name].iloc[nn_idx[k] : nn_idx[k] + m], c='red', linewidth=4)\n",
    "\n",
    "            label = label + ', ' + dim_name\n",
    "            axs[k].axvline(x=sub_motifs_idx[k], linestyle=\"dashed\", c='black')\n",
    "            axs[k].axvline(x=nn_idx[k], linestyle=\"dashed\", c='black')\n",
    "\n",
    "        new_mps = mps[:i+1] \n",
    "\n",
    "        axs[i + 1].set_ylabel(f\"P_{i}\", fontsize=10)\n",
    "        axs[i + 1].plot(new_mps[-1], c='orange', label=f\"{label.strip(',')}\")\n",
    "        axs[i + 1].set_xlabel('Time', fontsize=10)    \n",
    "\n",
    "        axs[i + 1].axvline(x=motifs_idx[i], linestyle=\"dashed\", c='black')\n",
    "        axs[i + 1].plot(motifs_idx[i], mps[i, motifs_idx[i]] + 1, marker=\"v\", markersize=10, color='red')\n",
    "        axs[i + 1].text(motifs_idx[i], mps[i, motifs_idx[i]], f\"{1}m\", fontsize=\"xx-large\")\n",
    "        axs[i + 1].legend(loc=\"upper right\")\n",
    "        \n",
    "        for j in range(i+1):\n",
    "            axs[i + 1].axvline(x=nn_idx[j], linestyle=\"dashed\", c='black')\n",
    "            axs[i + 1].plot(nn_idx[j], mps[i, nn_idx[j]] + 1, marker=\"v\", markersize=10, color='red')\n",
    "            axs[i + 1].text(nn_idx[j], mps[i, nn_idx[j]], f\"{j+1}n\", fontsize=\"xx-large\")\n",
    "       \n",
    "        plt.savefig(f\"{filepath}_{i+1}.jpg\", transparent=False, bbox_inches='tight')\n",
    "        plt.show()\n",
    "\n"
   ]
  },
  {
   "cell_type": "code",
   "execution_count": null,
   "id": "564154ba",
   "metadata": {},
   "outputs": [],
   "source": [
    "# Further Processing \n",
    "def get_percent_motif_start_index(motifs):\n",
    "    final_motifs = []\n",
    "    \n",
    "    for i in range(0, len(motifs), 2016):\n",
    "        final_motifs.append(motifs.index[i])\n",
    "            \n",
    "    return final_motifs"
   ]
  },
  {
   "cell_type": "code",
   "execution_count": null,
   "id": "beee0196",
   "metadata": {},
   "outputs": [],
   "source": [
    "# Further Processing the motifs to get the first index\n",
    "def get_motif_start_index(motifs):\n",
    "    final_motifs = []\n",
    "    j = 0\n",
    "    check = False\n",
    "    \n",
    "    for i in range(0, len(motifs), 2016):\n",
    "        if not check:\n",
    "            j = i\n",
    "\n",
    "        final_motifs.append(motifs[j])\n",
    "\n",
    "        if check:\n",
    "            j = i + value\n",
    "\n",
    "        elif motifs[i] + 2016 > len(motifs):\n",
    "            value = len(motifs) - motifs[i]\n",
    "            j = i + value\n",
    "            check = True\n",
    "            \n",
    "                \n",
    "    return final_motifs\n"
   ]
  },
  {
   "cell_type": "code",
   "execution_count": null,
   "id": "9aed45b6",
   "metadata": {},
   "outputs": [],
   "source": [
    "# A function that would take in percentage for discord and percentage for motif \n",
    "def select_motifs_discords_percentage(mps, dimension, motif_percentage, discord_percentage, motifs={}, discords={}):\n",
    "    motif_threshold = mps.quantile(motif_percentage/100)\n",
    "    discord_threshold = mps.quantile((100 - discord_percentage)/100)\n",
    "    \n",
    "    motif = mps[mps < motif_threshold]\n",
    "    discord = mps[mps > discord_threshold]\n",
    "    \n",
    "    if len(motif):\n",
    "        \n",
    "        motifs[dimension] = get_percent_motif_start_index(motif)\n",
    "        \n",
    "    return motifs, discords"
   ]
  },
  {
   "cell_type": "code",
   "execution_count": null,
   "id": "3d624241",
   "metadata": {},
   "outputs": [],
   "source": [
    "# Select the Upper K of all points and Lowest J of all points as discords and motifs from mps\n",
    "\n",
    "def select_top_k_motifs_discords(mps, dimension, k_motifs, k_discords, motifs={}, discords={}):\n",
    "    # Getting the motifs_idx based on the standard np.argmin method \n",
    "    # It gives 1 single motif for each dimension\n",
    "    sorted_mps = np.argsort(mps, kind='stable')\n",
    "    \n",
    "    motifs[dimension] = get_motif_start_index(sorted_mps)[:k_motifs]\n",
    "    \n",
    "    return motifs, discords"
   ]
  },
  {
   "cell_type": "code",
   "execution_count": null,
   "id": "77b52481",
   "metadata": {},
   "outputs": [],
   "source": [
    "# Taking user's input for function to be applied\n",
    "motif_thresholds_for_all_dimensions = {}\n",
    "\n",
    "def take_function_and_function_parameters_input():\n",
    "    motif_thresholds_for_all_dimensions = {}\n",
    "    for dimension in range(mps.shape[0]):\n",
    "        motif_thresholds_for_single_dimension = {}\n",
    "        function = input(f\"Select A Function To Be Applied to Dimension {dimension}\\n\"\n",
    "                         f\"\\tPress 1 For Selection Based on Percentage\\n \"\n",
    "                         f\"\\tPress 2 For Top K Motifs and Discords Selection: \")\n",
    "\n",
    "        if int(function) == 1:\n",
    "            motif_percentage = input(f\"\\tEnter a Specific Threshold Value For Motif Selection For Dimension {dimension}: \")\n",
    "            discord_percentage = input(f\"\\tEnter a Specific Threshold Value For Discord Selection For Dimension {dimension}: \")\n",
    "            motif_thresholds_for_single_dimension[\"function\"] = int(function)\n",
    "            motif_thresholds_for_single_dimension[\"motif_percentage\"] = int(motif_percentage)\n",
    "            motif_thresholds_for_single_dimension[\"discord_percentage\"] = int(discord_percentage)\n",
    "\n",
    "        elif int(function) == 2:\n",
    "            k_motif = input(f\"\\tEnter Top K Motif Selection For Dimension {dimension}: \")\n",
    "            k_discord = input(f\"\\tEnter Top K Discord Selection For Dimension {dimension}: \")\n",
    "            motif_thresholds_for_single_dimension[\"function\"] = int(function)\n",
    "            motif_thresholds_for_single_dimension[\"k_motifs\"] = int(k_motif)\n",
    "            motif_thresholds_for_single_dimension[\"k_discords\"] = int(k_discord)\n",
    "        else:\n",
    "            continue\n",
    "        motif_thresholds_for_all_dimensions[dimension] = motif_thresholds_for_single_dimension\n",
    "        \n",
    "    return motif_thresholds_for_all_dimensions\n"
   ]
  },
  {
   "cell_type": "code",
   "execution_count": null,
   "id": "7cfcb558",
   "metadata": {},
   "outputs": [],
   "source": [
    "# Calculating Motifs and Discords \n",
    "def calculate_motifs_discords_for_each_dimension(mps, motif_thresholds_for_all_dimensions):\n",
    "    motifs = {}\n",
    "    discords = {}\n",
    "\n",
    "    mps_df = pd.DataFrame(mps).T\n",
    "\n",
    "    for key, value in motif_thresholds_for_all_dimensions.items():\n",
    "        if value.get('function') == 1:\n",
    "            motifs, discords = select_motifs_discords_percentage(mps_df[key], key, value[\"motif_percentage\"],\n",
    "                                                                 value[\"discord_percentage\"], motifs, discords)\n",
    "        elif value.get('function') == 2:\n",
    "            motifs, discords = select_top_k_motifs_discords(mps_df[key], key, value['k_motifs'], \n",
    "                                                            value['k_discords'], motifs, discords)\n",
    "    return motifs, discords"
   ]
  },
  {
   "cell_type": "code",
   "execution_count": null,
   "id": "de088a21",
   "metadata": {},
   "outputs": [],
   "source": [
    "# Selecting Nearest Neighbour that correspond to each motif_idx in the final_motifs dict\n",
    "\n",
    "def calculate_nn_and_filter_motifs(motifs):\n",
    "    final_nn = {}\n",
    "    final_motifs = {}\n",
    "\n",
    "    for key, values in motifs.items():\n",
    "        nns = {}\n",
    "        for value in values:\n",
    "            if nns.get(value) is None:\n",
    "                if final_nn.get(key):\n",
    "                    final_nn[key].append(indices[key, value])\n",
    "                    final_motifs[key].append(value)\n",
    "                else:\n",
    "                    final_nn.setdefault(key, []).append(indices[key, value])\n",
    "                    final_motifs.setdefault(key, []).append(value)\n",
    "\n",
    "                nns[indices[key, value]] = 1\n",
    "    \n",
    "    return final_motifs, final_nn"
   ]
  },
  {
   "cell_type": "code",
   "execution_count": null,
   "id": "b2e9792d",
   "metadata": {},
   "outputs": [],
   "source": [
    "\n",
    "def create_sensor_id_type_mapping(location_input):\n",
    "    sensors_id_type = sensor_location_type_ids.loc[:,location_input].to_dict()\n",
    "\n",
    "    sensor_id_type_mapping = {}\n",
    "    for key, values in sensors_id_type.items():\n",
    "        if isinstance(values, str)  and 'list' not in key:\n",
    "            for value in eval(values.replace(' ', ',')):\n",
    "                sensor_id_type_mapping[f\"{value}\"] = key\n",
    "            \n",
    "    return sensor_id_type_mapping"
   ]
  },
  {
   "cell_type": "code",
   "execution_count": null,
   "id": "2ab828fe",
   "metadata": {},
   "outputs": [],
   "source": [
    "# Plotting the dimensions of the time series dataframe df along with the dimensions of the matrix profile\n",
    "\n",
    "def plot_results_of_mps(df, mps, m, final_motifs, final_nn, sensor_id_type_mapping, filepath):\n",
    "    fig, axs = plt.subplots(mps.shape[0] * 2, sharex=True, gridspec_kw={'hspace': 0}, figsize=(25, mps.shape[0] * 5))\n",
    "    label = ''\n",
    "    for k, dim_name in enumerate(df.columns):\n",
    "        axs[k].set_ylabel(dim_name, fontsize=10)\n",
    "        axs[k].set_xlabel('Time', fontsize=10) \n",
    "        axs[k].plot(df[dim_name], label=sensor_id_type_mapping[dim_name])\n",
    "        axs[k].legend(loc=\"upper right\")\n",
    "        i = 0\n",
    "        if final_motifs.get(k) and final_nn.get(k):\n",
    "            for motifs_idx, nn_idx in zip(final_motifs.get(k), final_nn.get(k)):\n",
    "                \n",
    "                axs[k].plot(df[dim_name].iloc[motifs_idx : motifs_idx + m], c='red', linewidth=4)\n",
    "                axs[k].plot(df[dim_name].iloc[nn_idx : nn_idx + m], c='red', linewidth=4)\n",
    "                axs[k].axvline(x=motifs_idx, linestyle=\"dashed\", c='black')\n",
    "                axs[k].axvline(x=nn_idx, linestyle=\"dashed\", c='black')\n",
    "\n",
    "                axs[k + mps.shape[0]].plot(motifs_idx, mps[k, motifs_idx] + 1, marker=\"v\", markersize=10, color='red')\n",
    "                axs[k + mps.shape[0]].plot(nn_idx, mps[k, nn_idx] + 1, marker=\"v\", markersize=10, color='red')\n",
    "\n",
    "                axs[k + mps.shape[0]].axvline(x=motifs_idx, linestyle=\"dashed\", c='black')\n",
    "                axs[k + mps.shape[0]].axvline(x=nn_idx, linestyle=\"dashed\", c='black')\n",
    "\n",
    "                axs[k + mps.shape[0]].text(motifs_idx, mps[k][motifs_idx], f\"{i+1}m\", fontsize=\"xx-large\")\n",
    "                axs[k + mps.shape[0]].text(nn_idx, mps[k][nn_idx], f\"{i+1}n\", fontsize=\"xx-large\")\n",
    "\n",
    "                i += 1\n",
    "        label = label + ', ' + dim_name\n",
    "        \n",
    "        axs[k + mps.shape[0]].set_ylabel(f\"P_{k}\", fontsize=10)\n",
    "        axs[k + mps.shape[0]].plot(mps[k], c='orange', label=f\"{label.strip(',')}\")\n",
    "        axs[k + mps.shape[0]].set_xlabel('Time', fontsize=10)\n",
    "        axs[k + mps.shape[0]].legend(loc=\"upper right\")\n",
    "\n",
    "    plt.savefig(filepath, transparent=False, bbox_inches='tight')\n",
    "    plt.show()\n"
   ]
  },
  {
   "cell_type": "code",
   "execution_count": null,
   "id": "989534ef",
   "metadata": {},
   "outputs": [],
   "source": [
    "def apply_functions(final_data, mps, m, filepath):\n",
    "    motif_thresholds_for_all_dimensions = take_function_and_function_parameters_input()\n",
    "        print(f\"\\nMotif Threshold Dictionary:\\n\\t {motif_thresholds_for_all_dimensions}\\n\")\n",
    "\n",
    "    motifs, discords = calculate_motifs_discords_for_each_dimension(mps, motif_thresholds_for_all_dimensions)\n",
    "    print(f\"Motifs Before Filtering:\\n\\t {motifs}\\n\")\n",
    "\n",
    "    final_motifs, final_nn = calculate_nn_and_filter_motifs(motifs)\n",
    "\n",
    "    # Resetting the date index \n",
    "    df = final_data.reset_index(drop=True)\n",
    "\n",
    "    sensor_id_type_mapping = create_sensor_id_type_mapping(location_input)\n",
    "\n",
    "    plot_results_of_mps(df, mps, m, final_motifs, final_nn, sensor_id_type_mapping, filepath)\n",
    "    \n",
    "    return final_motifs, final_nn"
   ]
  },
  {
   "cell_type": "code",
   "execution_count": null,
   "id": "901063e7",
   "metadata": {},
   "outputs": [],
   "source": [
    "def apply_functions_heatmap(final_data, mps, m, filepath, \n",
    "                            motif_thresholds_for_all_dimensions):\n",
    "    \n",
    "    print(f\"\\nMotif Threshold Dictionary:\\n\\t {motif_thresholds_for_all_dimensions}\\n\")\n",
    "\n",
    "    motifs, discords = calculate_motifs_discords_for_each_dimension(mps, motif_thresholds_for_all_dimensions)\n",
    "    print(f\"Motifs Before Filtering:\\n\\t {motifs}\\n\")\n",
    "\n",
    "    final_motifs, final_nn = calculate_nn_and_filter_motifs(motifs)\n",
    "\n",
    "    # Resetting the date index \n",
    "    df = final_data.reset_index(drop=True)\n",
    "\n",
    "    sensor_id_type_mapping = create_sensor_id_type_mapping(location_input)\n",
    "\n",
    "    plot_results_of_mps(df, mps, m, final_motifs, final_nn, sensor_id_type_mapping, filepath)\n",
    "    \n",
    "    return final_motifs, final_nn"
   ]
  },
  {
   "cell_type": "code",
   "execution_count": null,
   "id": "23fc3a77",
   "metadata": {},
   "outputs": [],
   "source": [
    "def select_top_k_motifs_heatmap(final_data, mps, m, filepath, json_path, \n",
    "                                motif_thresholds_for_all_dimensions):\n",
    "    \n",
    "    final_motifs, final_nn = apply_functions_heatmap(final_data, mps, 2016, filepath, \n",
    "                                                    motif_thresholds_for_all_dimensions)\n",
    "\n",
    "    # Creating a list of dictionaries that will be dumped to json file\n",
    "    # Each dictionary in the list will have 2 keys, \n",
    "    json_data = []\n",
    "\n",
    "    for k in range(final_data.shape[1]):\n",
    "        values = {'k': k}\n",
    "        i = 1\n",
    "        subspaces = []\n",
    "        \n",
    "        if final_motifs and final_motifs.get(k):\n",
    "            \n",
    "            for motifs_idx, nn_idx in zip(final_motifs[k], final_nn[k]):\n",
    "                subspace = stumpy.subspace(final_data, 2016, motifs_idx, nn_idx, k)\n",
    "                motif_subspaces = {\"motif_id\": i, \"motif_idx\": int(motifs_idx), \"nn_idx\": int(nn_idx), \"subspace_column\": subspace.tolist(), \"subspace_sensor_ids\": final_data.columns[subspace].tolist()}\n",
    "                i += 1\n",
    "                \n",
    "                print(f\"For k = {k}, the {k + 1}-dimensional subspace includes subsequences from {subspace}\")\n",
    "                subspaces.append(motif_subspaces)\n",
    "        \n",
    "        values['motif_subspaces'] = subspaces\n",
    "        json_data.append(values)\n",
    "\n",
    "    # Dumping the motifs and nearest neighbors in a specific dimension \n",
    "\n",
    "    with open(json_path, 'w') as f:\n",
    "        json.dump(json_data, f, indent=2)"
   ]
  },
  {
   "cell_type": "markdown",
   "id": "c4289ea9",
   "metadata": {},
   "source": [
    "## Creating Folders and Reading Preprocessed Data Files"
   ]
  },
  {
   "cell_type": "code",
   "execution_count": null,
   "id": "6e1181d3",
   "metadata": {},
   "outputs": [],
   "source": [
    "create_directory(directory=\"Results_Subspaces\")"
   ]
  },
  {
   "cell_type": "code",
   "execution_count": null,
   "id": "247fab47",
   "metadata": {},
   "outputs": [],
   "source": [
    "sensor_location_type_ids = pd.read_csv('./Processed_Data/Sensor_Location_Type_Ids.csv', index_col='name')"
   ]
  },
  {
   "cell_type": "code",
   "execution_count": null,
   "id": "d959f4ba",
   "metadata": {},
   "outputs": [],
   "source": [
    "with open('./Processed_Data/sensor_type_names_dict.pkl', 'rb') as f:\n",
    "    sensor_type_names_dict = pickle.load(f)"
   ]
  },
  {
   "cell_type": "code",
   "execution_count": null,
   "id": "deff385e",
   "metadata": {},
   "outputs": [],
   "source": [
    "location_input = input(\"Enter a Specific Location For MMP: \")"
   ]
  },
  {
   "cell_type": "code",
   "execution_count": null,
   "id": "a89113e9",
   "metadata": {},
   "outputs": [],
   "source": [
    "directory = \"Results_Subspaces/\" + location_input.replace('/', '_')\n",
    "create_directory(directory)"
   ]
  },
  {
   "cell_type": "code",
   "execution_count": null,
   "id": "540cd217",
   "metadata": {},
   "outputs": [],
   "source": [
    "# directory1 = directory + '/All_Dimenisons_Subspaces'\n",
    "# create_directory(directory1)"
   ]
  },
  {
   "cell_type": "code",
   "execution_count": null,
   "id": "df5af2b4",
   "metadata": {},
   "outputs": [],
   "source": [
    "# Getting list of sensor_ids/column\n",
    "\n",
    "columns = []\n",
    "for key in sensor_type_names_dict.keys():\n",
    "    columns.extend(eval(sensor_location_type_ids.loc[f'{key}_list', location_input]))\n",
    "    \n",
    "columns.append('Timestamp')"
   ]
  },
  {
   "cell_type": "code",
   "execution_count": null,
   "id": "c3c16660",
   "metadata": {},
   "outputs": [],
   "source": [
    "final_data = pd.read_csv(\"./Processed_Data/Final_Sensor_Time_Series_Imputed.csv\", usecols=columns, \n",
    "                         index_col='Timestamp', parse_dates=True)\n"
   ]
  },
  {
   "cell_type": "code",
   "execution_count": null,
   "id": "d7e1007a",
   "metadata": {},
   "outputs": [],
   "source": [
    "# Displaying Time Series DataFrame \n",
    "final_data"
   ]
  },
  {
   "cell_type": "code",
   "execution_count": null,
   "id": "a467ed08",
   "metadata": {},
   "outputs": [],
   "source": [
    "final_data.to_csv(f\"{directory}/df.csv\")"
   ]
  },
  {
   "cell_type": "code",
   "execution_count": null,
   "id": "2fbaa529",
   "metadata": {},
   "outputs": [],
   "source": [
    "# Creating a Mapping\n",
    "sensors_id_type = sensor_location_type_ids.loc[:,location_input].to_dict()\n",
    "\n",
    "sensor_id_type_mapping = {}\n",
    "for key, values in sensors_id_type.items():\n",
    "    if isinstance(values, str)  and 'list' not in key:\n",
    "        for value in eval(values.replace(' ', ',')):\n",
    "            sensor_id_type_mapping[f\"{value}\"] = key"
   ]
  },
  {
   "cell_type": "code",
   "execution_count": null,
   "id": "554261d8",
   "metadata": {
    "scrolled": true
   },
   "outputs": [],
   "source": [
    "sensor_id_type_mapping"
   ]
  },
  {
   "cell_type": "markdown",
   "id": "9b89f89e",
   "metadata": {},
   "source": [
    "### MPS Calculation Using Constraint Algorithm For All Dimensions (Weekly Rhythm)"
   ]
  },
  {
   "cell_type": "code",
   "execution_count": null,
   "id": "55557cb8",
   "metadata": {},
   "outputs": [],
   "source": [
    "mps, indices = mps_calculations_mstump_m(final_data, \n",
    "                                         f\"{directory}/All_Dimensions_mstump_m_Weekly.jpg\", \n",
    "                                         m=2016)"
   ]
  },
  {
   "cell_type": "markdown",
   "id": "e4109721",
   "metadata": {},
   "source": [
    "### MPS Calculation Using Constraint Algorithm For All Dimensions With Top Motifs (Weekly Rhythm)"
   ]
  },
  {
   "cell_type": "code",
   "execution_count": null,
   "id": "b5ae755e",
   "metadata": {},
   "outputs": [],
   "source": [
    "threshold_input = input(\"How Many Times Do you want to select Top K Motifs (Build Json Data): \")"
   ]
  },
  {
   "cell_type": "code",
   "execution_count": null,
   "id": "c1910db6",
   "metadata": {},
   "outputs": [],
   "source": [
    "for i in range(1, int(threshold_input)+1):\n",
    "    motif_thresholds_for_all_dimensions = {}\n",
    "    motif_thresholds_for_single_dimension = {}\n",
    "    for dimension in range(final_data.shape[1]):\n",
    "        motif_thresholds_for_single_dimension[\"function\"] = 2\n",
    "        motif_thresholds_for_single_dimension[\"k_motifs\"] = i\n",
    "        motif_thresholds_for_single_dimension[\"k_discords\"] = i\n",
    "        motif_thresholds_for_all_dimensions[dimension] = motif_thresholds_for_single_dimension\n",
    "    \n",
    "    select_top_k_motifs_heatmap(final_data, mps, 2016, \n",
    "                                f\"{directory}/All_Dimensions_mstump_m_Weekly_Top_{i}_motifs.jpg\", \n",
    "                                f\"{directory}/Subspaces_Data_Weekly_Top_{i}_motifs.json\",\n",
    "                               motif_thresholds_for_all_dimensions)"
   ]
  },
  {
   "cell_type": "code",
   "execution_count": null,
   "id": "3142ef44",
   "metadata": {},
   "outputs": [],
   "source": [
    "# for values in json_data:\n",
    "#     directory2 = f\"{directory1}/k={values['k']}\"\n",
    "#     create_directory(f\"{directory2}\")\n",
    "#     for motif in values[\"motif_subspaces\"]:\n",
    "#         mps, indices = mps_calculations_mstump_m(final_data[motif[\"subspace_sensor_ids\"]], \n",
    "#                                          f\"{directory2}/Motif_Id_{motif['motif_id']}.jpg\", \n",
    "#                                          m=2016)"
   ]
  },
  {
   "cell_type": "markdown",
   "id": "bc4ef7d9",
   "metadata": {},
   "source": [
    "### Calculating the Change in the Subspaces and Building a Heatmap "
   ]
  },
  {
   "cell_type": "code",
   "execution_count": null,
   "id": "671779be",
   "metadata": {},
   "outputs": [],
   "source": [
    "def count_changed_subspaces(motif_subspaces, sort=False):\n",
    "    change_count = 0\n",
    "    if not motif_subspaces:\n",
    "        return None\n",
    "    \n",
    "    dataframe = []\n",
    "    \n",
    "    for subspace in motif_subspaces:\n",
    "        if sort:\n",
    "            dataframe.append({\"subspaces\": \"\".join(sorted(subspace[\"subspace_sensor_ids\"]))})\n",
    "        else:\n",
    "            dataframe.append({\"subspaces\": \"\".join(subspace[\"subspace_sensor_ids\"])})\n",
    "    \n",
    "    dataframe = pd.DataFrame(dataframe)\n",
    "    \n",
    "    return dataframe[\"subspaces\"].nunique()"
   ]
  },
  {
   "cell_type": "code",
   "execution_count": null,
   "id": "dca322d6",
   "metadata": {},
   "outputs": [],
   "source": [
    "files = sorted(glob.glob(f\"{directory}/*.json\"))"
   ]
  },
  {
   "cell_type": "code",
   "execution_count": null,
   "id": "2f1b778c",
   "metadata": {},
   "outputs": [],
   "source": [
    "files = sorted(glob.glob(f\"{directory}/*.json\"))\n",
    "motif_count = 0\n",
    "dimensions_change_count_motifs = []\n",
    "\n",
    "for file in files:\n",
    "    motif_count += 1\n",
    "    with open(file, 'r') as f:\n",
    "        json_data = json.load(f)\n",
    "\n",
    "    dimensions_change_count = {}\n",
    "    highest = 0\n",
    "\n",
    "    for value in json_data:\n",
    "        dimensions_change_count[value['k']] = {\"Total_Motifs\": motif_count, \n",
    "                                               \"Changed_Count\": count_changed_subspaces(value[\"motif_subspaces\"])}\n",
    "    \n",
    "    dimensions_change_count_motifs.append(dimensions_change_count)    \n",
    "    "
   ]
  },
  {
   "cell_type": "code",
   "execution_count": null,
   "id": "359a1786",
   "metadata": {},
   "outputs": [],
   "source": [
    "dimensions_change_count_motifs"
   ]
  },
  {
   "cell_type": "code",
   "execution_count": null,
   "id": "4e45bba3",
   "metadata": {},
   "outputs": [],
   "source": [
    "matrix = np.nan * np.ones(shape=(len(dimensions_change_count_motifs), len(dimensions_change_count_motifs[0])))"
   ]
  },
  {
   "cell_type": "code",
   "execution_count": null,
   "id": "d557327d",
   "metadata": {},
   "outputs": [],
   "source": [
    "for i in range(len(dimensions_change_count_motifs)):\n",
    "    for key, value in dimensions_change_count_motifs[i].items():\n",
    "        matrix[i][key] = value[\"Changed_Count\"]/value[\"Total_Motifs\"]"
   ]
  },
  {
   "cell_type": "code",
   "execution_count": null,
   "id": "f4231e29",
   "metadata": {},
   "outputs": [],
   "source": [
    "df = pd.DataFrame(matrix)"
   ]
  },
  {
   "cell_type": "code",
   "execution_count": null,
   "id": "0455bb96",
   "metadata": {},
   "outputs": [],
   "source": [
    "df"
   ]
  },
  {
   "cell_type": "code",
   "execution_count": null,
   "id": "bc910da3",
   "metadata": {},
   "outputs": [],
   "source": [
    "fig, ax = plt.subplots(figsize=(len(dimensions_change_count_motifs[0]), len(dimensions_change_count_motifs)))\n",
    "hm = sns.heatmap(data = df, annot=True, linewidths=2, ax=ax)\n",
    "hm.set(xlabel='k', ylabel='Motifs_Count')\n",
    "ax.invert_yaxis()\n",
    "plt.savefig(f\"{directory}/heatmap.jpg\", transparent=False, bbox_inches='tight')\n",
    "plt.show()"
   ]
  },
  {
   "cell_type": "code",
   "execution_count": null,
   "id": "a90d3059",
   "metadata": {},
   "outputs": [],
   "source": []
  }
 ],
 "metadata": {
  "kernelspec": {
   "display_name": "Python 3 (ipykernel)",
   "language": "python",
   "name": "python3"
  },
  "language_info": {
   "codemirror_mode": {
    "name": "ipython",
    "version": 3
   },
   "file_extension": ".py",
   "mimetype": "text/x-python",
   "name": "python",
   "nbconvert_exporter": "python",
   "pygments_lexer": "ipython3",
   "version": "3.9.16"
  }
 },
 "nbformat": 4,
 "nbformat_minor": 5
}
