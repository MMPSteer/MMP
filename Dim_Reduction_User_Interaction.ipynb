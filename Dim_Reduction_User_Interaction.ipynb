{
 "cells": [
  {
   "cell_type": "code",
   "execution_count": null,
   "id": "ab2f4234",
   "metadata": {},
   "outputs": [],
   "source": [
    "import warnings\n",
    "warnings.filterwarnings('ignore')"
   ]
  },
  {
   "cell_type": "code",
   "execution_count": null,
   "id": "d7cd393a",
   "metadata": {},
   "outputs": [],
   "source": [
    "import sys\n",
    "import os\n",
    "\n",
    "cloned_repo_path = os.path.abspath('')#insert path here\n",
    "sys.path.insert(0, cloned_repo_path)\n",
    "cloned_repo_path = os.path.abspath('.')\n",
    "sys.path.insert(0, cloned_repo_path)"
   ]
  },
  {
   "cell_type": "code",
   "execution_count": null,
   "id": "a6fc48ba",
   "metadata": {},
   "outputs": [],
   "source": [
    "import os\n",
    "import pickle \n",
    "import stumpy\n",
    "import numpy as np\n",
    "import pandas as pd\n",
    "from tqdm.notebook import tqdm\n",
    "\n",
    "import matplotlib.pyplot as plt\n",
    "from statsmodels.tsa.seasonal import STL"
   ]
  },
  {
   "cell_type": "markdown",
   "id": "3fd2a5cb",
   "metadata": {},
   "source": [
    "## Helping Functions"
   ]
  },
  {
   "cell_type": "code",
   "execution_count": null,
   "id": "8f19327f",
   "metadata": {},
   "outputs": [],
   "source": [
    "def plot_all_dimensions(df, filepath, sensor_id_type_mapping):\n",
    "    fig, axs = plt.subplots(df.shape[1], sharex=True, gridspec_kw={'hspace': 0}, figsize=(25, df.shape[1] * 5))\n",
    "    for k, dim_name in enumerate(df.columns):\n",
    "        axs[k].set_ylabel(dim_name, fontsize=10)\n",
    "        axs[k].set_xlabel('Time', fontsize=10) \n",
    "        axs[k].plot(df[dim_name], label=sensor_id_type_mapping[dim_name])\n",
    "        axs[k].legend(loc=\"upper right\")\n",
    "                \n",
    "    plt.savefig(filepath, transparent=False, bbox_inches='tight')\n",
    "    plt.show()\n"
   ]
  },
  {
   "cell_type": "code",
   "execution_count": null,
   "id": "87ffbe90",
   "metadata": {},
   "outputs": [],
   "source": [
    "def create_directory(directory=\"Results\"):\n",
    "    if not os.path.exists(directory):\n",
    "        os.makedirs(directory)\n",
    "        print(\"Directory Created Successfully\")\n",
    "    \n",
    "    else:\n",
    "        print(\"Directory Already Exists\")"
   ]
  },
  {
   "cell_type": "code",
   "execution_count": null,
   "id": "cc9cbffd",
   "metadata": {},
   "outputs": [],
   "source": [
    "def calculate_and_visualize_mdls(final_data, mps, indices, filepath, m=2016):\n",
    "    motifs_idx = np.argmin(mps, axis=1)\n",
    "\n",
    "    # Getting the nearest neighbours of each individual motifs_idx\n",
    "\n",
    "    nn_idx = indices[np.arange(len(motifs_idx)), motifs_idx]\n",
    "\n",
    "    mdls, subspaces = stumpy.mdl(final_data, m, motifs_idx, nn_idx)\n",
    "\n",
    "    print(f\"MDLS:\\n\\t {mdls}\\n\")\n",
    "\n",
    "    print(f\"Subspaces:\\n\\t {subspaces}\\n\")\n",
    "\n",
    "    k = np.argmin(mdls)\n",
    "\n",
    "    print(f\"Suugested Columns For Multidimensional Matrix Profile:\\n\\t {final_data.columns[subspaces[k]]}\\n\")\n",
    "    \n",
    "    plt.plot(np.arange(len(mdls)), mdls, c='red', linewidth='4')\n",
    "    plt.xlabel('k (zero-based)', fontsize='20')\n",
    "    plt.ylabel('Bit Size', fontsize='20')\n",
    "    plt.xticks(range(mps.shape[0]))\n",
    "    \n",
    "    plt.savefig(filepath, transparent=False, bbox_inches='tight')\n",
    "    plt.show()\n",
    "    \n",
    "    return final_data.columns[subspaces[k]].tolist(), final_data.columns[subspaces[-1]].tolist()"
   ]
  },
  {
   "cell_type": "code",
   "execution_count": null,
   "id": "b188e488",
   "metadata": {},
   "outputs": [],
   "source": [
    "def mps_calculations_mstump_m(final_data, filepath, m=2016):\n",
    "    # Calculating Multidimensional Matrix Profile For \n",
    "\n",
    "    mps, indices = stumpy.mstump_m(final_data, m)\n",
    "\n",
    "    # Displaying the shape of MultiDimensional Matrix Profile \n",
    "\n",
    "    print(f\"MPS Shape: {mps.shape}\")\n",
    "\n",
    "    # Getting the motifs_idx based on the standard np.argmin method \n",
    "    # It gives 1 single motif for each dimension\n",
    "\n",
    "    motifs_idx = np.argmin(mps, axis=1)\n",
    "\n",
    "    # Displaying the motifs of each dimension\n",
    "    \n",
    "    print(f\"Motif Start Index: {motifs_idx}\")\n",
    "\n",
    "    nn_idx = indices[np.arange(len(motifs_idx)), motifs_idx]\n",
    "    \n",
    "   \n",
    "    print(f\"Nearest Start Index: {nn_idx}\")\n",
    "\n",
    "\n",
    "    df = final_data.reset_index(drop=True)\n",
    "\n",
    "    # Plotting the dimensions of the time series dataframe df a\n",
    "  \n",
    "\n",
    "    fig, axs = plt.subplots(mps.shape[0] * 2, sharex=True, gridspec_kw={'hspace': 0}, figsize=(25, mps.shape[0] * 10))\n",
    "    label = ''\n",
    "    for k, dim_name in enumerate(df.columns):\n",
    "        axs[k].set_ylabel(dim_name, fontsize=10)\n",
    "        axs[k].set_xlabel('Time', fontsize=10) \n",
    "        axs[k].plot(df[dim_name], label=sensor_id_type_mapping[dim_name])\n",
    "        axs[k].legend(loc=\"upper right\")\n",
    "        axs[k].plot(range(motifs_idx[k], motifs_idx[k] + m), df[dim_name].iloc[motifs_idx[k] : motifs_idx[k] + m], c='red', linewidth=4)\n",
    "        axs[k].plot(range(nn_idx[k], nn_idx[k] + m), df[dim_name].iloc[nn_idx[k] : nn_idx[k] + m], c='red', linewidth=4)\n",
    "\n",
    "        label = label + ', ' + dim_name\n",
    "        \n",
    "        axs[k].axvline(x=motifs_idx[k], linestyle=\"dashed\", c='black')\n",
    "        axs[k].axvline(x=nn_idx[k], linestyle=\"dashed\", c='black')\n",
    "\n",
    "        axs[k + mps.shape[0]].set_ylabel(f\"P_{k}\", fontsize=10)\n",
    "        axs[k + mps.shape[0]].plot(mps[k], c='orange', label=f\"{label.strip(',')}\")\n",
    "        axs[k + mps.shape[0]].set_xlabel('Time', fontsize=10)    \n",
    "\n",
    "        axs[k + mps.shape[0]].axvline(x=motifs_idx[k], linestyle=\"dashed\", c='black')\n",
    "        axs[k + mps.shape[0]].axvline(x=nn_idx[k], linestyle=\"dashed\", c='black')    \n",
    "\n",
    "        axs[k + mps.shape[0]].plot(motifs_idx[k], mps[k, motifs_idx[k]] + 1, marker=\"v\", markersize=10, color='red')\n",
    "        axs[k + mps.shape[0]].plot(nn_idx[k], mps[k, nn_idx[k]] + 1, marker=\"v\", markersize=10, color='red')\n",
    "        \n",
    "        axs[k + mps.shape[0]].text(motifs_idx[k], mps[k, motifs_idx[k]], f\"{1}m\", fontsize=\"xx-large\")\n",
    "        axs[k + mps.shape[0]].text(nn_idx[k], mps[k, motifs_idx[k]], f\"{1}n\", fontsize=\"xx-large\")\n",
    "        axs[k + mps.shape[0]].legend(loc=\"upper right\")\n",
    "        \n",
    "    plt.savefig(filepath, transparent=False, bbox_inches='tight')\n",
    "    plt.show()\n",
    "    \n",
    "    return mps, indices\n",
    "\n"
   ]
  },
  {
   "cell_type": "code",
   "execution_count": null,
   "id": "8a3e8441",
   "metadata": {},
   "outputs": [],
   "source": [
    "def mps_calculations_mstump(final_data, filepath, m=2016):\n",
    "    # Calculating Multidimensional Matrix Profile For a weekly rhythm\n",
    "\n",
    "    mps, indices = stumpy.mstump(final_data, m)\n",
    "    print(f\"MPS Shape: {mps.shape}\")\n",
    "\n",
    "    # Getting the motifs_idx based on the standard np.argmin method \n",
    "    motifs_idx = np.argmin(mps, axis=1)\n",
    "\n",
    "    # Displaying the motifs of each dimension\n",
    "      print(f\"Motif Start Index: {motifs_idx}\")\n",
    "\n",
    "\n",
    "    nn_idx = indices[np.arange(len(motifs_idx)), motifs_idx]\n",
    "    \n",
    "    # Displaying the Nearest Neighbors of each dimension\n",
    "    \n",
    "    print(f\"Nearest Neighbor Start Index: {nn_idx}\")\n",
    "\n",
    "\n",
    "    df = final_data.reset_index(drop=True)\n",
    "\n",
    "    fig, axs = plt.subplots(mps.shape[0] * 2, sharex=True, gridspec_kw={'hspace': 0}, figsize=(25, mps.shape[0] * 10))\n",
    "    label = ''\n",
    "    for k, dim_name in enumerate(df.columns):\n",
    "        axs[k].set_ylabel(dim_name, fontsize=10)\n",
    "        axs[k].set_xlabel('Time', fontsize=10) \n",
    "        axs[k].plot(df[dim_name], label=sensor_id_type_mapping[dim_name])\n",
    "        axs[k].legend(loc=\"upper right\")\n",
    "        axs[k].plot(range(motifs_idx[k], motifs_idx[k] + m), df[dim_name].iloc[motifs_idx[k] : motifs_idx[k] + m], c='red', linewidth=4)\n",
    "        axs[k].plot(range(nn_idx[k], nn_idx[k] + m), df[dim_name].iloc[nn_idx[k] : nn_idx[k] + m], c='red', linewidth=4)\n",
    "        \n",
    "        label = label + ', ' + dim_name\n",
    "        \n",
    "        axs[k].axvline(x=motifs_idx[k], linestyle=\"dashed\", c='black')\n",
    "        axs[k].axvline(x=nn_idx[k], linestyle=\"dashed\", c='black')\n",
    "\n",
    "        axs[k + mps.shape[0]].set_ylabel(f\"P_{k}\", fontsize=10)\n",
    "        axs[k + mps.shape[0]].plot(mps[k], c='orange', label=f\"{label.strip(',')}\")\n",
    "        axs[k + mps.shape[0]].set_xlabel('Time', fontsize=10)    \n",
    "\n",
    "        axs[k + mps.shape[0]].axvline(x=motifs_idx[k], linestyle=\"dashed\", c='black')\n",
    "        axs[k + mps.shape[0]].axvline(x=nn_idx[k], linestyle=\"dashed\", c='black')    \n",
    "\n",
    "        axs[k + mps.shape[0]].plot(motifs_idx[k], mps[k, motifs_idx[k]] + 1, marker=\"v\", markersize=10, color='red')\n",
    "        axs[k + mps.shape[0]].plot(nn_idx[k], mps[k, nn_idx[k]] + 1, marker=\"v\", markersize=10, color='red')\n",
    "        \n",
    "        axs[k + mps.shape[0]].text(motifs_idx[k], mps[k, motifs_idx[k]], f\"{1}m\", fontsize=\"xx-large\")\n",
    "        axs[k + mps.shape[0]].text(nn_idx[k], mps[k, motifs_idx[k]], f\"{1}n\", fontsize=\"xx-large\")\n",
    "        axs[k + mps.shape[0]].legend(loc=\"upper right\")\n",
    "        \n",
    "    plt.savefig(filepath, transparent=False, bbox_inches='tight')\n",
    "    plt.show()\n",
    "    \n",
    "    return mps, indices"
   ]
  },
  {
   "cell_type": "code",
   "execution_count": null,
   "id": "924d0935",
   "metadata": {},
   "outputs": [],
   "source": [
    "# Further Processing the motifs to get the first index of each corresponding motifs sequence\n",
    "\n",
    "def get_percent_motif_start_index(motifs):\n",
    "    final_motifs = []\n",
    "    \n",
    "    for i in range(0, len(motifs), 2016):\n",
    "        final_motifs.append(motifs.index[i])\n",
    "            \n",
    "    return final_motifs"
   ]
  },
  {
   "cell_type": "code",
   "execution_count": null,
   "id": "ac3468eb",
   "metadata": {},
   "outputs": [],
   "source": [
    "# Further Processing the motifs to get the first index of each corresponding motifs sequence\n",
    "# \n",
    "\n",
    "def get_motif_start_index(motifs):\n",
    "    final_motifs = []\n",
    "    j = 0\n",
    "    check = False\n",
    "    \n",
    "    for i in range(0, len(motifs), 2016):\n",
    "        if not check:\n",
    "            j = i\n",
    "\n",
    "        final_motifs.append(motifs[j])\n",
    "\n",
    "        if check:\n",
    "            j = i + value\n",
    "\n",
    "        elif motifs[i] + 2016 > len(motifs):\n",
    "            value = len(motifs) - motifs[i]\n",
    "            j = i + value\n",
    "            check = True\n",
    "            \n",
    "                \n",
    "    return final_motifs\n"
   ]
  },
  {
   "cell_type": "code",
   "execution_count": null,
   "id": "bdf2332f",
   "metadata": {},
   "outputs": [],
   "source": [
    "# A function that would take in percentage\n",
    "\n",
    "def select_motifs_discords_percentage(mps, dimension, motif_percentage, discord_percentage, motifs={}, discords={}):\n",
    "    motif_threshold = mps.quantile(motif_percentage/100)\n",
    "    discord_threshold = mps.quantile((100 - discord_percentage)/100)\n",
    "    \n",
    "    motif = mps[mps < motif_threshold]\n",
    "    discord = mps[mps > discord_threshold]\n",
    "    \n",
    "    if len(motif):\n",
    "        \n",
    "        motifs[dimension] = get_percent_motif_start_index(motif)\n",
    "        \n",
    "    return motifs, discords"
   ]
  },
  {
   "cell_type": "code",
   "execution_count": null,
   "id": "d4928b4c",
   "metadata": {},
   "outputs": [],
   "source": [
    "# Select the Upper K of all points and Lowest J \n",
    "def select_top_k_motifs_discords(mps, dimension, k_motifs, k_discords, motifs={}, discords={}):\n",
    "\n",
    "    sorted_mps = np.argsort(mps, kind='stable')\n",
    "    \n",
    "    motifs[dimension] = get_motif_start_index(sorted_mps)[:k_motifs]\n",
    "    \n",
    "    return motifs, discords"
   ]
  },
  {
   "cell_type": "code",
   "execution_count": null,
   "id": "741b5438",
   "metadata": {},
   "outputs": [],
   "source": [
    "# Taking user's input for function \n",
    "\n",
    "motif_thresholds_for_all_dimensions = {}\n",
    "\n",
    "def take_function_and_function_parameters_input():\n",
    "    motif_thresholds_for_all_dimensions = {}\n",
    "    for dimension in range(mps.shape[0]):\n",
    "        motif_thresholds_for_single_dimension = {}\n",
    "        function = input(f\"Select A Function To Be Applied to Dimension {dimension}\\n\"\n",
    "                         f\"\\tPress 1 For Selection Based on Percentage\\n \"\n",
    "                         f\"\\tPress 2 For Top K Motifs and Discords Selection: \")\n",
    "\n",
    "        if int(function) == 1:\n",
    "            motif_percentage = input(f\"\\tEnter a Specific Threshold Value For Motif Selection For Dimension {dimension}: \")\n",
    "            discord_percentage = input(f\"\\tEnter a Specific Threshold Value For Discord Selection For Dimension {dimension}: \")\n",
    "            motif_thresholds_for_single_dimension[\"function\"] = int(function)\n",
    "            motif_thresholds_for_single_dimension[\"motif_percentage\"] = int(motif_percentage)\n",
    "            motif_thresholds_for_single_dimension[\"discord_percentage\"] = int(discord_percentage)\n",
    "\n",
    "        elif int(function) == 2:\n",
    "            k_motif = input(f\"\\tEnter Top K Motif Selection For Dimension {dimension}: \")\n",
    "            k_discord = input(f\"\\tEnter Top K Discord Selection For Dimension {dimension}: \")\n",
    "            motif_thresholds_for_single_dimension[\"function\"] = int(function)\n",
    "            motif_thresholds_for_single_dimension[\"k_motifs\"] = int(k_motif)\n",
    "            motif_thresholds_for_single_dimension[\"k_discords\"] = int(k_discord)\n",
    "        else:\n",
    "            continue\n",
    "        motif_thresholds_for_all_dimensions[dimension] = motif_thresholds_for_single_dimension\n",
    "        \n",
    "    return motif_thresholds_for_all_dimensions\n"
   ]
  },
  {
   "cell_type": "code",
   "execution_count": null,
   "id": "4422dd4b",
   "metadata": {},
   "outputs": [],
   "source": [
    "# Calculating Motifs and Discords \n",
    "\n",
    "\n",
    "def calculate_motifs_discords_for_each_dimension(mps, motif_thresholds_for_all_dimensions):\n",
    "    motifs = {}\n",
    "    discords = {}\n",
    "\n",
    "    mps_df = pd.DataFrame(mps).T\n",
    "\n",
    "    for key, value in motif_thresholds_for_all_dimensions.items():\n",
    "        if value.get('function') == 1:\n",
    "            motifs, discords = select_motifs_discords_percentage(mps_df[key], key, value[\"motif_percentage\"],\n",
    "                                                                 value[\"discord_percentage\"], motifs, discords)\n",
    "        elif value.get('function') == 2:\n",
    "            motifs, discords = select_top_k_motifs_discords(mps_df[key], key, value['k_motifs'], \n",
    "                                                            value['k_discords'], motifs, discords)\n",
    "    return motifs, discords"
   ]
  },
  {
   "cell_type": "code",
   "execution_count": null,
   "id": "09df2dbf",
   "metadata": {},
   "outputs": [],
   "source": [
    "# Selecting Nearest Neighbour \n",
    "\n",
    "def calculate_nn_and_filter_motifs(motifs):\n",
    "    final_nn = {}\n",
    "    final_motifs = {}\n",
    "\n",
    "    for key, values in motifs.items():\n",
    "        nns = {}\n",
    "        for value in values:\n",
    "            if nns.get(value) is None:\n",
    "                if final_nn.get(key):\n",
    "                    final_nn[key].append(indices[key, value])\n",
    "                    final_motifs[key].append(value)\n",
    "                else:\n",
    "                    final_nn.setdefault(key, []).append(indices[key, value])\n",
    "                    final_motifs.setdefault(key, []).append(value)\n",
    "\n",
    "                nns[indices[key, value]] = 1\n",
    "    \n",
    "    return final_motifs, final_nn"
   ]
  },
  {
   "cell_type": "code",
   "execution_count": null,
   "id": "395bf39e",
   "metadata": {},
   "outputs": [],
   "source": [
    "\n",
    "def create_sensor_id_type_mapping(location_input):\n",
    "    sensors_id_type = sensor_location_type_ids.loc[:,location_input].to_dict()\n",
    "\n",
    "    sensor_id_type_mapping = {}\n",
    "    for key, values in sensors_id_type.items():\n",
    "        if isinstance(values, str)  and 'list' not in key:\n",
    "            for value in eval(values.replace(' ', ',')):\n",
    "                sensor_id_type_mapping[f\"{value}\"] = key\n",
    "            \n",
    "    return sensor_id_type_mapping"
   ]
  },
  {
   "cell_type": "code",
   "execution_count": null,
   "id": "6da8765b",
   "metadata": {},
   "outputs": [],
   "source": [
    "# Plotting the dimensions of the time series dataframe \n",
    "\n",
    "def plot_results_of_mps(df, mps, m, final_motifs, final_nn, sensor_id_type_mapping, filepath):\n",
    "    fig, axs = plt.subplots(mps.shape[0] * 2, sharex=True, gridspec_kw={'hspace': 0}, figsize=(25, mps.shape[0] * 10))\n",
    "    label = ''\n",
    "    for k, dim_name in enumerate(df.columns):\n",
    "        axs[k].set_ylabel(dim_name, fontsize=10)\n",
    "        axs[k].set_xlabel('Time', fontsize=10) \n",
    "        axs[k].plot(df[dim_name], label=sensor_id_type_mapping[dim_name])\n",
    "        axs[k].legend(loc=\"upper right\")\n",
    "        i = 0\n",
    "        if final_motifs.get(k) and final_nn.get(k):\n",
    "            for motifs_idx, nn_idx in zip(final_motifs.get(k), final_nn.get(k)):\n",
    "                \n",
    "                axs[k].plot(df[dim_name].iloc[motifs_idx : motifs_idx + m], c='red', linewidth=4)\n",
    "                axs[k].plot(df[dim_name].iloc[nn_idx : nn_idx + m], c='red', linewidth=4)\n",
    "                axs[k].axvline(x=motifs_idx, linestyle=\"dashed\", c='black')\n",
    "                axs[k].axvline(x=nn_idx, linestyle=\"dashed\", c='black')\n",
    "\n",
    "                axs[k + mps.shape[0]].plot(motifs_idx, mps[k, motifs_idx] + 1, marker=\"v\", markersize=10, color='red')\n",
    "                axs[k + mps.shape[0]].plot(nn_idx, mps[k, nn_idx] + 1, marker=\"v\", markersize=10, color='red')\n",
    "\n",
    "                axs[k + mps.shape[0]].axvline(x=motifs_idx, linestyle=\"dashed\", c='black')\n",
    "                axs[k + mps.shape[0]].axvline(x=nn_idx, linestyle=\"dashed\", c='black')\n",
    "\n",
    "                axs[k + mps.shape[0]].text(motifs_idx, mps[k][motifs_idx], f\"{i+1}m\", fontsize=\"xx-large\")\n",
    "                axs[k + mps.shape[0]].text(nn_idx, mps[k][nn_idx], f\"{i+1}n\", fontsize=\"xx-large\")\n",
    "\n",
    "                i += 1\n",
    "        label = label + ', ' + dim_name\n",
    "        \n",
    "        axs[k + mps.shape[0]].set_ylabel(f\"P_{k}\", fontsize=10)\n",
    "        axs[k + mps.shape[0]].plot(mps[k], c='orange', label=f\"{label.strip(',')}\")\n",
    "        axs[k + mps.shape[0]].set_xlabel('Time', fontsize=10)\n",
    "        axs[k + mps.shape[0]].legend(loc=\"upper right\")\n",
    "\n",
    "    plt.savefig(filepath, transparent=False, bbox_inches='tight')\n",
    "    plt.show()\n"
   ]
  },
  {
   "cell_type": "code",
   "execution_count": null,
   "id": "342e26b5",
   "metadata": {},
   "outputs": [],
   "source": [
    "def apply_functions(final_data, mps, m, filepath):\n",
    "    motif_thresholds_for_all_dimensions = take_function_and_function_parameters_input()\n",
    "\n",
    "    # Displaying Dictionary of Each Dim\n",
    "\n",
    "    print(f\"\\nMotif Threshold Dictionary:\\n\\t {motif_thresholds_for_all_dimensions}\\n\")\n",
    "\n",
    "    motifs, discords = calculate_motifs_discords_for_each_dimension(mps, motif_thresholds_for_all_dimensions)\n",
    "\n",
    "    print(f\"Motifs Before Filtering:\\n\\t {motifs}\\n\")\n",
    "\n",
    "    final_motifs, final_nn = calculate_nn_and_filter_motifs(motifs)\n",
    "\n",
    "    df = final_data.reset_index(drop=True)\n",
    "\n",
    "    sensor_id_type_mapping = create_sensor_id_type_mapping(location_input)\n",
    "\n",
    "    plot_results_of_mps(df, mps, m, final_motifs, final_nn, sensor_id_type_mapping, filepath)"
   ]
  },
  {
   "cell_type": "markdown",
   "id": "bf548bdc",
   "metadata": {},
   "source": [
    "## Creating Folders and Reading Preprocessed Data Files"
   ]
  },
  {
   "cell_type": "code",
   "execution_count": null,
   "id": "60116330",
   "metadata": {},
   "outputs": [],
   "source": [
    "create_directory(directory=\"Results\")"
   ]
  },
  {
   "cell_type": "code",
   "execution_count": null,
   "id": "eb474d77",
   "metadata": {},
   "outputs": [],
   "source": [
    "sensor_location_type_ids = pd.read_csv('./Processed_Data/Sensor_Location_Type_Ids.csv', index_col='name')"
   ]
  },
  {
   "cell_type": "code",
   "execution_count": null,
   "id": "b52d0533",
   "metadata": {},
   "outputs": [],
   "source": [
    "with open('./Processed_Data/sensor_type_names_dict.pkl', 'rb') as f:\n",
    "    sensor_type_names_dict = pickle.load(f)"
   ]
  },
  {
   "cell_type": "code",
   "execution_count": null,
   "id": "d83e8ca1",
   "metadata": {},
   "outputs": [],
   "source": [
    "location_input = input(\"Enter a Specific Location For MMP: \")"
   ]
  },
  {
   "cell_type": "code",
   "execution_count": null,
   "id": "3eba434b",
   "metadata": {},
   "outputs": [],
   "source": [
    "directory = \"Results/\" + location_input.replace('/', '_')\n",
    "create_directory(directory)"
   ]
  },
  {
   "cell_type": "code",
   "execution_count": null,
   "id": "75b1191e",
   "metadata": {},
   "outputs": [],
   "source": [
    "directory = directory + '_User_Interaction'\n",
    "create_directory(directory)"
   ]
  },
  {
   "cell_type": "code",
   "execution_count": null,
   "id": "b54f0281",
   "metadata": {},
   "outputs": [],
   "source": [
    "columns = []\n",
    "bool_columns = []\n",
    "decimal_columns = []\n",
    "\n",
    "for key in sensor_type_names_dict.keys():\n",
    "    if key == 'bool':\n",
    "        bool_columns.extend(eval(sensor_location_type_ids.loc[f'{key}_list', location_input]))\n",
    "    elif key == 'decimal':\n",
    "        decimal_columns.extend(eval(sensor_location_type_ids.loc[f'{key}_list', location_input]))   \n",
    "    columns.extend(eval(sensor_location_type_ids.loc[f'{key}_list', location_input]))\n",
    "    \n",
    "columns.append('Timestamp')"
   ]
  },
  {
   "cell_type": "code",
   "execution_count": null,
   "id": "0a22976b",
   "metadata": {},
   "outputs": [],
   "source": [
    "# Reading Time Series DataFrame\n",
    "\n",
    "final_data = pd.read_csv(\"./Processed_Data/Final_Sensor_Time_Series_Imputed.csv\", usecols=columns, \n",
    "                         index_col='Timestamp', parse_dates=True)\n"
   ]
  },
  {
   "cell_type": "code",
   "execution_count": null,
   "id": "cb6c3f14",
   "metadata": {},
   "outputs": [],
   "source": [
    "final_data"
   ]
  },
  {
   "cell_type": "code",
   "execution_count": null,
   "id": "8a1a50cf",
   "metadata": {},
   "outputs": [],
   "source": [
    "\n",
    "sensors_id_type = sensor_location_type_ids.loc[:,location_input].to_dict()\n",
    "\n",
    "sensor_id_type_mapping = {}\n",
    "for key, values in sensors_id_type.items():\n",
    "    if isinstance(values, str)  and 'list' not in key:\n",
    "        for value in eval(values.replace(' ', ',')):\n",
    "            sensor_id_type_mapping[f\"{value}\"] = key"
   ]
  },
  {
   "cell_type": "code",
   "execution_count": null,
   "id": "fcb3cd30",
   "metadata": {
    "scrolled": true
   },
   "outputs": [],
   "source": [
    "sensor_id_type_mapping"
   ]
  },
  {
   "cell_type": "code",
   "execution_count": null,
   "id": "e9a8b4e6",
   "metadata": {},
   "outputs": [],
   "source": [
    "plot_all_dimensions(final_data, f\"{directory}/All_Dimensions.jpg\", sensor_id_type_mapping)"
   ]
  },
  {
   "cell_type": "markdown",
   "id": "2e03578e",
   "metadata": {},
   "source": [
    "## Selecting Only the Relevant Columns\n",
    "    Filter out the columns which do not look good and might ruin the results.  "
   ]
  },
  {
   "cell_type": "code",
   "execution_count": null,
   "id": "f40c3a1d",
   "metadata": {},
   "outputs": [],
   "source": [
    "select_choice = input(\"Do You Want Filter Specific Columns to be used for MMP Calculation\"\n",
    "                      \"\\n\\t Press 1 to Select the Columns\"\n",
    "                      \"\\n\\t Press Any Other Key to Use All the Columns (No Filtering):\\n\")\n",
    "\n",
    "new_final_data = final_data.copy()\n",
    "\n",
    "if select_choice == '1':\n",
    "    select_dimensions = input(\"Enter Comma Separated Sensor Ids to be used for MMP Calculation: \")\n",
    "    columns_to_use = select_dimensions.split(',')\n",
    "    columns_to_use = [value.strip() for value in columns_to_use]\n",
    "    \n",
    "    new_final_data = final_data[columns_to_use]\n",
    "    plot_all_dimensions(new_final_data, f\"{directory}/After_Filtering_Dimensions.jpg\", sensor_id_type_mapping)"
   ]
  },
  {
   "cell_type": "markdown",
   "id": "8359abe5",
   "metadata": {},
   "source": [
    "## Select The Columns Which Need to be Aggregated Using Mean\n",
    "    You can select columns by device type to be aggregated in 1 selection like All CO2 columns need to be aggregated than add a comma separated sensor ids for all CO2 columns as I entered 2764,2777,2760 in 1 selection and when prompted again I selected all Humididty sensors 2763,2776,2759"
   ]
  },
  {
   "cell_type": "code",
   "execution_count": null,
   "id": "78482535",
   "metadata": {},
   "outputs": [],
   "source": [
    "select_choice_mean = input(\"Do You Want to Calculate Mean over Specific Selection of Columns\"\n",
    "                      \"\\n\\t Press 1 to Select the Columns to Calculate Mean\"\n",
    "                      \"\\n\\t Press Any Other Key For No Mean:\\n\")\n",
    "\n",
    "mean_column_pairs = {}\n",
    "i = 1\n",
    "\n",
    "while select_choice_mean == '1':\n",
    "    select_dimensions_mean = input(\"Enter Comma Separated Sensor Ids to Calculate Mean: \")\n",
    "    \n",
    "    columns_for_mean = select_dimensions_mean.split(',')\n",
    "    columns_for_mean = [value.strip() for value in columns_for_mean]\n",
    "    \n",
    "    mean_column_pairs[f'Mean_{i}'] = columns_for_mean\n",
    "    sensor_id_type_mapping[f'Mean_{i}'] = select_dimensions_mean\n",
    "    \n",
    "    select_choice_mean = input(\"Do You Want to Calculate Mean for Some Other Selection of Columns\"\n",
    "                      \"\\n\\t Press 1 to Select the Columns to Calculate Mean\"\n",
    "                      \"\\n\\t Press Any Other Key For No More Mean Calculation:\\n\")\n",
    "    i += 1\n",
    "    \n",
    "    \n"
   ]
  },
  {
   "cell_type": "code",
   "execution_count": null,
   "id": "0e61acde",
   "metadata": {},
   "outputs": [],
   "source": [
    "if mean_column_pairs:\n",
    "    mean_columns = []\n",
    "\n",
    "    for key, value in mean_column_pairs.items():\n",
    "        new_final_data[key] = final_data[value].mean(axis=1)\n",
    "        mean_columns.extend(value)\n",
    "\n",
    "    new_final_data = new_final_data[list(set(new_final_data.columns) - set(mean_columns))]\n",
    "    plot_all_dimensions(new_final_data, f\"{directory}/After_Applying_Mean_to_Dimensions.jpg\", sensor_id_type_mapping)"
   ]
  },
  {
   "cell_type": "markdown",
   "id": "8fd0eee5",
   "metadata": {},
   "source": [
    "## Select The Columns Which Need to be Aggregated Using Sum\n",
    "    You can select columns by device type to be aggregated in 1 selection. I did not apply it in this example"
   ]
  },
  {
   "cell_type": "code",
   "execution_count": null,
   "id": "86f12a52",
   "metadata": {},
   "outputs": [],
   "source": [
    "select_choice_sum = input(\"Do You Want to Calculate Sum over Specific Selection of Columns\"\n",
    "                      \"\\n\\t Press 1 to Select the Columns to Calculate Sum\"\n",
    "                      \"\\n\\t Press Any Other Key For No Sum:\\n\")\n",
    "\n",
    "sum_column_pairs = {}\n",
    "i = 1\n",
    "\n",
    "while select_choice_sum == '1':\n",
    "    select_dimensions_sum = input(\"Enter Comma Separated Sensor Ids to Calculate Sum: \")\n",
    "    \n",
    "    columns_for_sum = select_dimensions_sum.split(',')\n",
    "    columns_for_sum = [value.strip() for value in columns_for_sum]\n",
    "    \n",
    "    sum_column_pairs[f'Sum_{i}'] = columns_for_sum\n",
    "    sensor_id_type_mapping[f'Sum_{i}'] = select_dimensions_sum\n",
    "    \n",
    "    select_choice_sum = input(\"Do You Want to Calculate Sum for Some Other Selection of Columns\"\n",
    "                      \"\\n\\t Press 1 to Select the Columns to Calculate Sum\"\n",
    "                      \"\\n\\t Press Any Other Key For No More Sum Calculation:\\n\")\n",
    "        \n",
    "    i += 1\n",
    "    \n"
   ]
  },
  {
   "cell_type": "code",
   "execution_count": null,
   "id": "ae1da211",
   "metadata": {},
   "outputs": [],
   "source": [
    "if sum_column_pairs:\n",
    "    sum_columns = []\n",
    "\n",
    "    for key, value in sum_column_pairs.items():\n",
    "        new_final_data[key] = final_data[value].sum(axis=1)\n",
    "        sum_columns.extend(value)\n",
    "\n",
    "    new_final_data = new_final_data[list(set(new_final_data.columns) - set(sum_columns))]\n",
    "    plot_all_dimensions(new_final_data, f\"{directory}/After_Applying_Sum_to_Dimensions.jpg\", sensor_id_type_mapping)"
   ]
  },
  {
   "cell_type": "markdown",
   "id": "f16aaf4f",
   "metadata": {},
   "source": [
    "### MPS Calculation Using Constraint Algorithm For All Bool Dimensions (Weekly Rhythm)"
   ]
  },
  {
   "cell_type": "code",
   "execution_count": null,
   "id": "f992b3de",
   "metadata": {},
   "outputs": [],
   "source": [
    "mps, indices = mps_calculations_mstump_m(new_final_data, \n",
    "                                        f\"{directory}/Selected_Dimensions_mstump_m_Weekly.jpg\", \n",
    "                                        m=2016)"
   ]
  },
  {
   "cell_type": "markdown",
   "id": "32590a7d",
   "metadata": {},
   "source": [
    "### Dimensionality Reduction Using MDLs for Selected Dimensions (Weekly Rhythm)"
   ]
  },
  {
   "cell_type": "code",
   "execution_count": null,
   "id": "2efd81fd",
   "metadata": {},
   "outputs": [],
   "source": [
    "select_choice_mdl = input(\"Do You Want to Apply MDL to the Data\"\n",
    "                      \"\\n\\t Press 1 to Apply MDL\"\n",
    "                      \"\\n\\t Press Any Other Key For No MDL:\\n\")"
   ]
  },
  {
   "cell_type": "code",
   "execution_count": null,
   "id": "9ca76155",
   "metadata": {},
   "outputs": [],
   "source": [
    "if select_choice_mdl == '1':\n",
    "    columns, reordered_columns = calculate_and_visualize_mdls(new_final_data, mps, indices, \n",
    "                                       f\"{directory}/MDL_Ideal_Selected_Dimensions_Weekly.jpg\",\n",
    "                                       m=2016)"
   ]
  },
  {
   "cell_type": "markdown",
   "id": "37734741",
   "metadata": {},
   "source": [
    "### MPS Calculation Using Constraint Algorithm For Reduced Selected Dimensions (Weekly Rhythm)"
   ]
  },
  {
   "cell_type": "code",
   "execution_count": null,
   "id": "e7e3bd70",
   "metadata": {},
   "outputs": [],
   "source": [
    "select_choice_mdl_mmp = input(\"Do You Want to Calculate MMP Using Reduced Dimensions Suggested by MDL\"\n",
    "                      \"\\n\\t Press 1 to Calculate MMP After MDL\"\n",
    "                      \"\\n\\t Press Any Other Key For No MMP After MDL:\\n\")"
   ]
  },
  {
   "cell_type": "code",
   "execution_count": null,
   "id": "ee5ff3c2",
   "metadata": {},
   "outputs": [],
   "source": [
    "if select_choice_mdl_mmp == '1' and select_choice_mdl == '1':\n",
    "    mps, indices = mps_calculations_mstump_m(new_final_data[columns], \n",
    "                                        f\"{directory}/MDL_Reduced_Dimensions_mstump_m_Weekly.jpg\", \n",
    "                                        m=2016)"
   ]
  }
 ],
 "metadata": {
  "kernelspec": {
   "display_name": "Python 3 (ipykernel)",
   "language": "python",
   "name": "python3"
  },
  "language_info": {
   "codemirror_mode": {
    "name": "ipython",
    "version": 3
   },
   "file_extension": ".py",
   "mimetype": "text/x-python",
   "name": "python",
   "nbconvert_exporter": "python",
   "pygments_lexer": "ipython3",
   "version": "3.9.16"
  }
 },
 "nbformat": 4,
 "nbformat_minor": 5
}
