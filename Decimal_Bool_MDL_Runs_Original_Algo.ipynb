{
 "cells": [
  {
   "cell_type": "code",
   "execution_count": null,
   "id": "31ee914d",
   "metadata": {},
   "outputs": [],
   "source": [
    "import warnings\n",
    "warnings.filterwarnings('ignore')"
   ]
  },
  {
   "cell_type": "code",
   "execution_count": null,
   "id": "554bd8b0",
   "metadata": {},
   "outputs": [],
   "source": [
    "import sys\n",
    "import os\n",
    "\n",
    "cloned_repo_path = os.path.abspath('')#insert path here\n",
    "sys.path.insert(0, cloned_repo_path)\n",
    "cloned_repo_path = os.path.abspath('.')\n",
    "sys.path.insert(0, cloned_repo_path)"
   ]
  },
  {
   "cell_type": "code",
   "execution_count": null,
   "id": "64205ae8",
   "metadata": {},
   "outputs": [],
   "source": [
    "import os\n",
    "import pickle \n",
    "import stumpy\n",
    "import numpy as np\n",
    "import pandas as pd\n",
    "from tqdm.notebook import tqdm\n",
    "\n",
    "import matplotlib.pyplot as plt\n",
    "from statsmodels.tsa.seasonal import STL"
   ]
  },
  {
   "cell_type": "markdown",
   "id": "11d9de64",
   "metadata": {},
   "source": [
    "## Helping Functions"
   ]
  },
  {
   "cell_type": "code",
   "execution_count": null,
   "id": "ea01ed61",
   "metadata": {},
   "outputs": [],
   "source": [
    "def create_directory(directory=\"Results\"):\n",
    "    if not os.path.exists(directory):\n",
    "        os.makedirs(directory)\n",
    "        print(\"Directory Created Successfully\")\n",
    "    \n",
    "    else:\n",
    "        print(\"Directory Already Exists\")"
   ]
  },
  {
   "cell_type": "code",
   "execution_count": null,
   "id": "1e04eb04",
   "metadata": {},
   "outputs": [],
   "source": [
    "def calculate_and_visualize_mdls(final_data, mps, indices, filepath, m=2016):\n",
    "    motifs_idx = np.argmin(mps, axis=1)\n",
    "\n",
    "\n",
    "    nn_idx = indices[np.arange(len(motifs_idx)), motifs_idx]\n",
    "\n",
    "    mdls, subspaces = stumpy.mdl(final_data, m, motifs_idx, nn_idx)\n",
    "\n",
    "    print(f\"MDLS:\\n\\t {mdls}\\n\")\n",
    "\n",
    "    print(f\"Subspaces:\\n\\t {subspaces}\\n\")\n",
    "\n",
    "    k = np.argmin(mdls)\n",
    "\n",
    "    print(f\"Suugested Columns For Multidimensional Matrix Profile:\\n\\t {final_data.columns[subspaces[k]]}\\n\")\n",
    "    \n",
    "    plt.plot(np.arange(len(mdls)), mdls, c='red', linewidth='4')\n",
    "    plt.xlabel('k (zero-based)', fontsize='20')\n",
    "    plt.ylabel('Bit Size', fontsize='20')\n",
    "    plt.xticks(range(mps.shape[0]))\n",
    "    \n",
    "    plt.savefig(filepath, transparent=False, bbox_inches='tight')\n",
    "    plt.show()\n",
    "    \n",
    "    return final_data.columns[subspaces[k]].tolist()"
   ]
  },
  {
   "cell_type": "code",
   "execution_count": null,
   "id": "5846b532",
   "metadata": {},
   "outputs": [],
   "source": [
    "def mps_calculations_mstump_m(final_data, filepath, m=2016):\n",
    "    # Calculating Multidimensional Matrix Profile For a weekly rhythm where subsequent length m=2016\n",
    "\n",
    "    mps, indices = stumpy.mstump_m(final_data, m)\n",
    "\n",
    "    print(f\"MPS Shape: {mps.shape}\")\n",
    "\n",
    "    motifs_idx = np.argmin(mps, axis=1)\n",
    "\n",
    "    # Displaying the motifs of each dim\n",
    "    \n",
    "    print(f\"Motif Start Index: {motifs_idx}\")\n",
    "    \n",
    "\n",
    "    nn_idx = indices[np.arange(len(motifs_idx)), motifs_idx]\n",
    "    \n",
    "    # Displaying the Nn\n",
    "    print(f\"Nearest Start Index: {nn_idx}\")\n",
    "\n",
    "    # Resetting the date index \n",
    "\n",
    "    df = final_data.reset_index(drop=True)\n",
    "\n",
    "    # Plotting the dimensions of the time series \n",
    "\n",
    "    fig, axs = plt.subplots(mps.shape[0] * 2, sharex=True, gridspec_kw={'hspace': 0}, figsize=(25, mps.shape[0] * 10))\n",
    "    label = ''\n",
    "    for k, dim_name in enumerate(df.columns):\n",
    "        axs[k].set_ylabel(dim_name, fontsize=10)\n",
    "        axs[k].set_xlabel('Time', fontsize=10) \n",
    "        axs[k].plot(df[dim_name], label=sensor_id_type_mapping[dim_name])\n",
    "        axs[k].legend(loc=\"upper right\")\n",
    "        axs[k].plot(range(motifs_idx[k], motifs_idx[k] + m), df[dim_name].iloc[motifs_idx[k] : motifs_idx[k] + m], c='red', linewidth=4)\n",
    "        axs[k].plot(range(nn_idx[k], nn_idx[k] + m), df[dim_name].iloc[nn_idx[k] : nn_idx[k] + m], c='red', linewidth=4)\n",
    "\n",
    "        label = label + ', ' + dim_name\n",
    "        \n",
    "        axs[k].axvline(x=motifs_idx[k], linestyle=\"dashed\", c='black')\n",
    "        axs[k].axvline(x=nn_idx[k], linestyle=\"dashed\", c='black')\n",
    "\n",
    "        axs[k + mps.shape[0]].set_ylabel(f\"P_{k}\", fontsize=10)\n",
    "        axs[k + mps.shape[0]].plot(mps[k], c='orange', label=f\"{label.strip(',')}\")\n",
    "        axs[k + mps.shape[0]].set_xlabel('Time', fontsize=10)    \n",
    "\n",
    "        axs[k + mps.shape[0]].axvline(x=motifs_idx[k], linestyle=\"dashed\", c='black')\n",
    "        axs[k + mps.shape[0]].axvline(x=nn_idx[k], linestyle=\"dashed\", c='black')    \n",
    "\n",
    "        axs[k + mps.shape[0]].plot(motifs_idx[k], mps[k, motifs_idx[k]] + 1, marker=\"v\", markersize=10, color='red')\n",
    "        axs[k + mps.shape[0]].plot(nn_idx[k], mps[k, nn_idx[k]] + 1, marker=\"v\", markersize=10, color='red')\n",
    "        \n",
    "        axs[k + mps.shape[0]].text(motifs_idx[k], mps[k, motifs_idx[k]], f\"{1}m\", fontsize=\"xx-large\")\n",
    "        axs[k + mps.shape[0]].text(nn_idx[k], mps[k, motifs_idx[k]], f\"{1}n\", fontsize=\"xx-large\")\n",
    "        axs[k + mps.shape[0]].legend(loc=\"upper right\")\n",
    "        \n",
    "    plt.savefig(filepath, transparent=False, bbox_inches='tight')\n",
    "    plt.show()\n",
    "    \n",
    "    return mps, indices\n",
    "\n"
   ]
  },
  {
   "cell_type": "code",
   "execution_count": null,
   "id": "3b4d935d",
   "metadata": {},
   "outputs": [],
   "source": [
    "def mps_calculations_mstump(final_data, filepath, m=2016):\n",
    "    # Calculating Multidimensional Matrix Profile\n",
    "\n",
    "    mps, indices = stumpy.mstump(final_data, m)\n",
    "\n",
    "    # Displaying the shape \n",
    "\n",
    "    print(f\"MPS Shape: {mps.shape}\")\n",
    "    motifs_idx = np.argmin(mps, axis=1)\n",
    "\n",
    "    \n",
    "    print(f\"Motif Start Index: {motifs_idx}\")\n",
    "\n",
    "    # Getting the nearest n\n",
    "\n",
    "    nn_idx = indices[np.arange(len(motifs_idx)), motifs_idx]  \n",
    "    print(f\"Nearest Neighbor Start Index: {nn_idx}\")\n",
    "\n",
    "\n",
    "    df = final_data.reset_index(drop=True)\n",
    "\n",
    "    # Plotting the dimensions o\n",
    " \n",
    "    fig, axs = plt.subplots(mps.shape[0] * 2, sharex=True, gridspec_kw={'hspace': 0}, figsize=(25, mps.shape[0] * 10))\n",
    "    label = ''\n",
    "    for k, dim_name in enumerate(df.columns):\n",
    "        axs[k].set_ylabel(dim_name, fontsize=10)\n",
    "        axs[k].set_xlabel('Time', fontsize=10) \n",
    "        axs[k].plot(df[dim_name], label=sensor_id_type_mapping[dim_name])\n",
    "        axs[k].legend(loc=\"upper right\")\n",
    "        axs[k].plot(range(motifs_idx[k], motifs_idx[k] + m), df[dim_name].iloc[motifs_idx[k] : motifs_idx[k] + m], c='red', linewidth=4)\n",
    "        axs[k].plot(range(nn_idx[k], nn_idx[k] + m), df[dim_name].iloc[nn_idx[k] : nn_idx[k] + m], c='red', linewidth=4)\n",
    "        \n",
    "        label = label + ', ' + dim_name\n",
    "        \n",
    "        axs[k].axvline(x=motifs_idx[k], linestyle=\"dashed\", c='black')\n",
    "        axs[k].axvline(x=nn_idx[k], linestyle=\"dashed\", c='black')\n",
    "\n",
    "        axs[k + mps.shape[0]].set_ylabel(f\"P_{k}\", fontsize=10)\n",
    "        axs[k + mps.shape[0]].plot(mps[k], c='orange', label=f\"{label.strip(',')}\")\n",
    "        axs[k + mps.shape[0]].set_xlabel('Time', fontsize=10)    \n",
    "\n",
    "        axs[k + mps.shape[0]].axvline(x=motifs_idx[k], linestyle=\"dashed\", c='black')\n",
    "        axs[k + mps.shape[0]].axvline(x=nn_idx[k], linestyle=\"dashed\", c='black')    \n",
    "\n",
    "        axs[k + mps.shape[0]].plot(motifs_idx[k], mps[k, motifs_idx[k]] + 1, marker=\"v\", markersize=10, color='red')\n",
    "        axs[k + mps.shape[0]].plot(nn_idx[k], mps[k, nn_idx[k]] + 1, marker=\"v\", markersize=10, color='red')\n",
    "        \n",
    "        axs[k + mps.shape[0]].text(motifs_idx[k], mps[k, motifs_idx[k]], f\"{1}m\", fontsize=\"xx-large\")\n",
    "        axs[k + mps.shape[0]].text(nn_idx[k], mps[k, motifs_idx[k]], f\"{1}n\", fontsize=\"xx-large\")\n",
    "        axs[k + mps.shape[0]].legend(loc=\"upper right\")\n",
    "        \n",
    "    plt.savefig(filepath, transparent=False, bbox_inches='tight')\n",
    "    plt.show()\n",
    "    \n",
    "    return mps, indices"
   ]
  },
  {
   "cell_type": "code",
   "execution_count": null,
   "id": "564154ba",
   "metadata": {},
   "outputs": [],
   "source": [
    "# Further Processing the motifs t\n",
    "def get_percent_motif_start_index(motifs):\n",
    "    final_motifs = []\n",
    "    \n",
    "    for i in range(0, len(motifs), 2016):\n",
    "        final_motifs.append(motifs.index[i])\n",
    "            \n",
    "    return final_motifs"
   ]
  },
  {
   "cell_type": "code",
   "execution_count": null,
   "id": "beee0196",
   "metadata": {},
   "outputs": [],
   "source": [
    "# Further Processing the motifs \n",
    "def get_motif_start_index(motifs):\n",
    "    final_motifs = []\n",
    "    j = 0\n",
    "    check = False\n",
    "    \n",
    "    for i in range(0, len(motifs), 2016):\n",
    "        if not check:\n",
    "            j = i\n",
    "\n",
    "        final_motifs.append(motifs[j])\n",
    "\n",
    "        if check:\n",
    "            j = i + value\n",
    "\n",
    "        elif motifs[i] + 2016 > len(motifs):\n",
    "            value = len(motifs) - motifs[i]\n",
    "            j = i + value\n",
    "            check = True\n",
    "            \n",
    "                \n",
    "    return final_motifs\n"
   ]
  },
  {
   "cell_type": "code",
   "execution_count": null,
   "id": "9aed45b6",
   "metadata": {},
   "outputs": [],
   "source": [
    "# A function that would take in percentage for discord and percentage for motif \n",
    "\n",
    "def select_motifs_discords_percentage(mps, dimension, motif_percentage, discord_percentage, motifs={}, discords={}):\n",
    "    motif_threshold = mps.quantile(motif_percentage/100)\n",
    "    discord_threshold = mps.quantile((100 - discord_percentage)/100)\n",
    "    \n",
    "    motif = mps[mps < motif_threshold]\n",
    "    discord = mps[mps > discord_threshold]\n",
    "    \n",
    "    if len(motif):\n",
    "        \n",
    "        motifs[dimension] = get_percent_motif_start_index(motif)\n",
    "        \n",
    "    return motifs, discords"
   ]
  },
  {
   "cell_type": "code",
   "execution_count": null,
   "id": "3d624241",
   "metadata": {},
   "outputs": [],
   "source": [
    "def select_top_k_motifs_discords(mps, dimension, k_motifs, k_discords, motifs={}, discords={}):\n",
    "    # Getting the motifs_idx based on the standard np.argmin method \n",
    "    # It gives 1 single motif for each dimension\n",
    "    sorted_mps = np.argsort(mps, kind='stable')\n",
    "    \n",
    "    motifs[dimension] = get_motif_start_index(sorted_mps)[:k_motifs]\n",
    "    \n",
    "    return motifs, discords"
   ]
  },
  {
   "cell_type": "code",
   "execution_count": null,
   "id": "77b52481",
   "metadata": {},
   "outputs": [],
   "source": [
    "# Taking user's input for function\n",
    "\n",
    "motif_thresholds_for_all_dimensions = {}\n",
    "\n",
    "def take_function_and_function_parameters_input():\n",
    "    motif_thresholds_for_all_dimensions = {}\n",
    "    for dimension in range(mps.shape[0]):\n",
    "        motif_thresholds_for_single_dimension = {}\n",
    "        function = input(f\"Select A Function To Be Applied to Dimension {dimension}\\n\"\n",
    "                         f\"\\tPress 1 For Selection Based on Percentage\\n \"\n",
    "                         f\"\\tPress 2 For Top K Motifs and Discords Selection: \")\n",
    "\n",
    "        if int(function) == 1:\n",
    "            motif_percentage = input(f\"\\tEnter a Specific Threshold Value For Motif Selection For Dimension {dimension}: \")\n",
    "            discord_percentage = input(f\"\\tEnter a Specific Threshold Value For Discord Selection For Dimension {dimension}: \")\n",
    "            motif_thresholds_for_single_dimension[\"function\"] = int(function)\n",
    "            motif_thresholds_for_single_dimension[\"motif_percentage\"] = int(motif_percentage)\n",
    "            motif_thresholds_for_single_dimension[\"discord_percentage\"] = int(discord_percentage)\n",
    "\n",
    "        elif int(function) == 2:\n",
    "            k_motif = input(f\"\\tEnter Top K Motif Selection For Dimension {dimension}: \")\n",
    "            k_discord = input(f\"\\tEnter Top K Discord Selection For Dimension {dimension}: \")\n",
    "            motif_thresholds_for_single_dimension[\"function\"] = int(function)\n",
    "            motif_thresholds_for_single_dimension[\"k_motifs\"] = int(k_motif)\n",
    "            motif_thresholds_for_single_dimension[\"k_discords\"] = int(k_discord)\n",
    "        else:\n",
    "            continue\n",
    "        motif_thresholds_for_all_dimensions[dimension] = motif_thresholds_for_single_dimension\n",
    "        \n",
    "    return motif_thresholds_for_all_dimensions\n"
   ]
  },
  {
   "cell_type": "code",
   "execution_count": null,
   "id": "7cfcb558",
   "metadata": {},
   "outputs": [],
   "source": [
    "# Calculating Motifs and Discords \n",
    "\n",
    "def calculate_motifs_discords_for_each_dimension(mps, motif_thresholds_for_all_dimensions):\n",
    "    motifs = {}\n",
    "    discords = {}\n",
    "\n",
    "    mps_df = pd.DataFrame(mps).T\n",
    "\n",
    "    for key, value in motif_thresholds_for_all_dimensions.items():\n",
    "        if value.get('function') == 1:\n",
    "            motifs, discords = select_motifs_discords_percentage(mps_df[key], key, value[\"motif_percentage\"],\n",
    "                                                                 value[\"discord_percentage\"], motifs, discords)\n",
    "        elif value.get('function') == 2:\n",
    "            motifs, discords = select_top_k_motifs_discords(mps_df[key], key, value['k_motifs'], \n",
    "                                                            value['k_discords'], motifs, discords)\n",
    "    return motifs, discords"
   ]
  },
  {
   "cell_type": "code",
   "execution_count": null,
   "id": "de088a21",
   "metadata": {},
   "outputs": [],
   "source": [
    "# Selecting Nearest n\n",
    "def calculate_nn_and_filter_motifs(motifs):\n",
    "    final_nn = {}\n",
    "    final_motifs = {}\n",
    "\n",
    "    for key, values in motifs.items():\n",
    "        nns = {}\n",
    "        for value in values:\n",
    "            if nns.get(value) is None:\n",
    "                if final_nn.get(key):\n",
    "                    final_nn[key].append(indices[key, value])\n",
    "                    final_motifs[key].append(value)\n",
    "                else:\n",
    "                    final_nn.setdefault(key, []).append(indices[key, value])\n",
    "                    final_motifs.setdefault(key, []).append(value)\n",
    "\n",
    "                nns[indices[key, value]] = 1\n",
    "    \n",
    "    return final_motifs, final_nn"
   ]
  },
  {
   "cell_type": "code",
   "execution_count": null,
   "id": "b2e9792d",
   "metadata": {},
   "outputs": [],
   "source": [
    "\n",
    "def create_sensor_id_type_mapping(location_input):\n",
    "    sensors_id_type = sensor_location_type_ids.loc[:,location_input].to_dict()\n",
    "\n",
    "    sensor_id_type_mapping = {}\n",
    "    for key, values in sensors_id_type.items():\n",
    "        if isinstance(values, str)  and 'list' not in key:\n",
    "            for value in eval(values.replace(' ', ',')):\n",
    "                sensor_id_type_mapping[f\"{value}\"] = key\n",
    "            \n",
    "    return sensor_id_type_mapping"
   ]
  },
  {
   "cell_type": "code",
   "execution_count": null,
   "id": "2ab828fe",
   "metadata": {},
   "outputs": [],
   "source": [
    "# Plotting the dim\n",
    "\n",
    "def plot_results_of_mps(df, mps, m, final_motifs, final_nn, sensor_id_type_mapping, filepath):\n",
    "    fig, axs = plt.subplots(mps.shape[0] * 2, sharex=True, gridspec_kw={'hspace': 0}, figsize=(25, mps.shape[0] * 10))\n",
    "    label = ''\n",
    "    for k, dim_name in enumerate(df.columns):\n",
    "        axs[k].set_ylabel(dim_name, fontsize=10)\n",
    "        axs[k].set_xlabel('Time', fontsize=10) \n",
    "        axs[k].plot(df[dim_name], label=sensor_id_type_mapping[dim_name])\n",
    "        axs[k].legend(loc=\"upper right\")\n",
    "        i = 0\n",
    "        if final_motifs.get(k) and final_nn.get(k):\n",
    "            for motifs_idx, nn_idx in zip(final_motifs.get(k), final_nn.get(k)):\n",
    "                \n",
    "                axs[k].plot(df[dim_name].iloc[motifs_idx : motifs_idx + m], c='red', linewidth=4)\n",
    "                axs[k].plot(df[dim_name].iloc[nn_idx : nn_idx + m], c='red', linewidth=4)\n",
    "                axs[k].axvline(x=motifs_idx, linestyle=\"dashed\", c='black')\n",
    "                axs[k].axvline(x=nn_idx, linestyle=\"dashed\", c='black')\n",
    "\n",
    "                axs[k + mps.shape[0]].plot(motifs_idx, mps[k, motifs_idx] + 1, marker=\"v\", markersize=10, color='red')\n",
    "                axs[k + mps.shape[0]].plot(nn_idx, mps[k, nn_idx] + 1, marker=\"v\", markersize=10, color='red')\n",
    "\n",
    "                axs[k + mps.shape[0]].axvline(x=motifs_idx, linestyle=\"dashed\", c='black')\n",
    "                axs[k + mps.shape[0]].axvline(x=nn_idx, linestyle=\"dashed\", c='black')\n",
    "\n",
    "                axs[k + mps.shape[0]].text(motifs_idx, mps[k][motifs_idx], f\"{i+1}m\", fontsize=\"xx-large\")\n",
    "                axs[k + mps.shape[0]].text(nn_idx, mps[k][nn_idx], f\"{i+1}n\", fontsize=\"xx-large\")\n",
    "\n",
    "                i += 1\n",
    "        label = label + ', ' + dim_name\n",
    "        \n",
    "        axs[k + mps.shape[0]].set_ylabel(f\"P_{k}\", fontsize=10)\n",
    "        axs[k + mps.shape[0]].plot(mps[k], c='orange', label=f\"{label.strip(',')}\")\n",
    "        axs[k + mps.shape[0]].set_xlabel('Time', fontsize=10)\n",
    "        axs[k + mps.shape[0]].legend(loc=\"upper right\")\n",
    "\n",
    "    plt.savefig(filepath, transparent=False, bbox_inches='tight')\n",
    "    plt.show()\n"
   ]
  },
  {
   "cell_type": "code",
   "execution_count": null,
   "id": "989534ef",
   "metadata": {},
   "outputs": [],
   "source": [
    "def apply_functions(final_data, mps, m, filepath):\n",
    "    motif_thresholds_for_all_dimensions = take_function_and_function_parameters_input()\n",
    "\n",
    "\n",
    "    print(f\"\\nMotif Threshold Dictionary:\\n\\t {motif_thresholds_for_all_dimensions}\\n\")\n",
    "\n",
    "    motifs, discords = calculate_motifs_discords_for_each_dimension(mps, motif_thresholds_for_all_dimensions)\n",
    "\n",
    "\n",
    "    print(f\"Motifs Before Filtering:\\n\\t {motifs}\\n\")\n",
    "\n",
    "    final_motifs, final_nn = calculate_nn_and_filter_motifs(motifs)\n",
    "\n",
    "    df = final_data.reset_index(drop=True)\n",
    "\n",
    "    sensor_id_type_mapping = create_sensor_id_type_mapping(location_input)\n",
    "\n",
    "    plot_results_of_mps(df, mps, m, final_motifs, final_nn, sensor_id_type_mapping, filepath)"
   ]
  },
  {
   "cell_type": "markdown",
   "id": "c4289ea9",
   "metadata": {},
   "source": [
    "## Creating Folders and Reading Preprocessed Data Files"
   ]
  },
  {
   "cell_type": "code",
   "execution_count": null,
   "id": "6e1181d3",
   "metadata": {},
   "outputs": [],
   "source": [
    "create_directory(directory=\"Results\")"
   ]
  },
  {
   "cell_type": "code",
   "execution_count": null,
   "id": "247fab47",
   "metadata": {},
   "outputs": [],
   "source": [
    "sensor_location_type_ids = pd.read_csv('./Processed_Data/Sensor_Location_Type_Ids.csv', index_col='name')"
   ]
  },
  {
   "cell_type": "code",
   "execution_count": null,
   "id": "d959f4ba",
   "metadata": {},
   "outputs": [],
   "source": [
    "\n",
    "with open('./Processed_Data/sensor_type_names_dict.pkl', 'rb') as f:\n",
    "    sensor_type_names_dict = pickle.load(f)"
   ]
  },
  {
   "cell_type": "code",
   "execution_count": null,
   "id": "deff385e",
   "metadata": {},
   "outputs": [],
   "source": [
    "location_input = input(\"Enter a Specific Location For MMP: \")"
   ]
  },
  {
   "cell_type": "code",
   "execution_count": null,
   "id": "a89113e9",
   "metadata": {},
   "outputs": [],
   "source": [
    "directory = \"Results/\" + location_input.replace('/', '_') + '_Original'\n",
    "create_directory(directory)"
   ]
  },
  {
   "cell_type": "code",
   "execution_count": null,
   "id": "391fd737",
   "metadata": {},
   "outputs": [],
   "source": [
    "directory = directory + '/MDL_Runs'\n",
    "create_directory(directory)"
   ]
  },
  {
   "cell_type": "code",
   "execution_count": null,
   "id": "df5af2b4",
   "metadata": {},
   "outputs": [],
   "source": [
    "\n",
    "columns = []\n",
    "bool_columns = []\n",
    "decimal_columns = []\n",
    "\n",
    "for key in sensor_type_names_dict.keys():\n",
    "    if key == 'bool':\n",
    "        bool_columns.extend(eval(sensor_location_type_ids.loc[f'{key}_list', location_input]))\n",
    "    elif key == 'decimal':\n",
    "        decimal_columns.extend(eval(sensor_location_type_ids.loc[f'{key}_list', location_input]))   \n",
    "    columns.extend(eval(sensor_location_type_ids.loc[f'{key}_list', location_input]))\n",
    "    \n",
    "columns.append('Timestamp')"
   ]
  },
  {
   "cell_type": "code",
   "execution_count": null,
   "id": "c3c16660",
   "metadata": {},
   "outputs": [],
   "source": [
    "\n",
    "final_data = pd.read_csv(\"./Processed_Data/Final_Sensor_Time_Series_Imputed.csv\", usecols=columns, \n",
    "                         index_col='Timestamp', parse_dates=True)\n"
   ]
  },
  {
   "cell_type": "code",
   "execution_count": null,
   "id": "d7e1007a",
   "metadata": {},
   "outputs": [],
   "source": [
    "\n",
    "final_data"
   ]
  },
  {
   "cell_type": "code",
   "execution_count": null,
   "id": "a467ed08",
   "metadata": {},
   "outputs": [],
   "source": [
    "final_data[decimal_columns].to_csv(f\"{directory}/decimal_df.csv\")\n",
    "final_data[bool_columns].to_csv(f\"{directory}/bool_df.csv\")"
   ]
  },
  {
   "cell_type": "code",
   "execution_count": null,
   "id": "2fbaa529",
   "metadata": {},
   "outputs": [],
   "source": [
    "\n",
    "sensors_id_type = sensor_location_type_ids.loc[:,location_input].to_dict()\n",
    "\n",
    "sensor_id_type_mapping = {}\n",
    "for key, values in sensors_id_type.items():\n",
    "    if isinstance(values, str)  and 'list' not in key:\n",
    "        for value in eval(values.replace(' ', ',')):\n",
    "            sensor_id_type_mapping[f\"{value}\"] = key"
   ]
  },
  {
   "cell_type": "code",
   "execution_count": null,
   "id": "554261d8",
   "metadata": {
    "scrolled": true
   },
   "outputs": [],
   "source": [
    "sensor_id_type_mapping"
   ]
  },
  {
   "cell_type": "markdown",
   "id": "9b89f89e",
   "metadata": {},
   "source": [
    "### MPS Calculation Using Constraint Algorithm For All Bool Dimensions (Weekly Rhythm)"
   ]
  },
  {
   "cell_type": "code",
   "execution_count": null,
   "id": "55557cb8",
   "metadata": {},
   "outputs": [],
   "source": [
    "mps, indices = mps_calculations_mstump(final_data[bool_columns], \n",
    "                                        f\"{directory}/All_Bool_Dimensions_mstump_Weekly.jpg\", \n",
    "                                        m=2016)"
   ]
  },
  {
   "cell_type": "markdown",
   "id": "88428eeb",
   "metadata": {},
   "source": [
    "### Dimensionality Reduction Using MDLs for bool Dimensions (Weekly Rhythm)"
   ]
  },
  {
   "cell_type": "code",
   "execution_count": null,
   "id": "623ee904",
   "metadata": {},
   "outputs": [],
   "source": [
    "columns = calculate_and_visualize_mdls(final_data[bool_columns], mps, indices, \n",
    "                                       f\"{directory}/Ideal_Bool_Dimensions_Weekly.jpg\", \n",
    "                                       m=2016)"
   ]
  },
  {
   "cell_type": "code",
   "execution_count": null,
   "id": "0720d12b",
   "metadata": {},
   "outputs": [],
   "source": [
    "final_data[columns].to_csv(f\"{directory}/bool_df_reduced_weekly.csv\")"
   ]
  },
  {
   "cell_type": "markdown",
   "id": "f825a85d",
   "metadata": {},
   "source": [
    "### MPS Calculation Using Constraint Algorithm For Reduced Bool Dimensions (Weekly Rhythm)"
   ]
  },
  {
   "cell_type": "code",
   "execution_count": null,
   "id": "668ea9c7",
   "metadata": {},
   "outputs": [],
   "source": [
    "mps, indices = mps_calculations_mstump(final_data[columns],\n",
    "                                       f\"{directory}/Reduced_Bool_Dimensions_mstump_Weekly.jpg\",\n",
    "                                       m=2016)"
   ]
  },
  {
   "cell_type": "markdown",
   "id": "d624f4ba",
   "metadata": {},
   "source": [
    "### MPS Calculation Using Constraint Algorithm For All Decimal Dimensions (Weekly Rhythm)"
   ]
  },
  {
   "cell_type": "code",
   "execution_count": null,
   "id": "10ac159f",
   "metadata": {},
   "outputs": [],
   "source": [
    "mps, indices = mps_calculations_mstump(final_data[decimal_columns],\n",
    "                                       f\"{directory}/All_Decimal_Dimensions_mstump_Weekly.jpg\",\n",
    "                                       m=2016)"
   ]
  },
  {
   "cell_type": "markdown",
   "id": "44cb3c80",
   "metadata": {},
   "source": [
    "### Dimensionality Reduction Using MDLs for Decimal Dimensions (Weekly Rhythm)"
   ]
  },
  {
   "cell_type": "code",
   "execution_count": null,
   "id": "f4bd7b5f",
   "metadata": {},
   "outputs": [],
   "source": [
    "columns = calculate_and_visualize_mdls(final_data[decimal_columns], mps, indices, \n",
    "                                       f\"{directory}/Ideal_Decimal_Dimensions_Weekly.jpg\",\n",
    "                                       m=2016)"
   ]
  },
  {
   "cell_type": "code",
   "execution_count": null,
   "id": "fd9cf936",
   "metadata": {},
   "outputs": [],
   "source": [
    "final_data[columns].to_csv(f\"{directory}/Decimal_df_reduced_weekly.csv\")"
   ]
  },
  {
   "cell_type": "markdown",
   "id": "5efc958c",
   "metadata": {},
   "source": [
    "### MPS Calculation Using Constraint Algorithm For Reduced Decimal Dimensions (Weekly Rhythm)"
   ]
  },
  {
   "cell_type": "code",
   "execution_count": null,
   "id": "c4ad6a59",
   "metadata": {
    "scrolled": true
   },
   "outputs": [],
   "source": [
    "mps, indices = mps_calculations_mstump(final_data[columns], \n",
    "                                         f\"{directory}/Reduced_Decimal_Dimensions_mstump_Weekly.jpg\", \n",
    "                                         m=2016)"
   ]
  },
  {
   "cell_type": "markdown",
   "id": "1df6cc54",
   "metadata": {},
   "source": [
    "### MPS Calculation Using Constraint Algorithm For All Bool Dimensions (Daily Rhythm)"
   ]
  },
  {
   "cell_type": "code",
   "execution_count": null,
   "id": "132d2380",
   "metadata": {},
   "outputs": [],
   "source": [
    "mps, indices = mps_calculations_mstump(final_data[bool_columns], \n",
    "                                         f\"{directory}/All_Bool_Dimensions_mstump_Daily.jpg\", \n",
    "                                         m=288)"
   ]
  },
  {
   "cell_type": "markdown",
   "id": "9ba0d861",
   "metadata": {},
   "source": [
    "### Dimensionality Reduction Using MDLs for bool Dimensions (Daily Rhythm)"
   ]
  },
  {
   "cell_type": "code",
   "execution_count": null,
   "id": "00c884c2",
   "metadata": {},
   "outputs": [],
   "source": [
    "columns = calculate_and_visualize_mdls(final_data[bool_columns], mps, indices,\n",
    "                                       f\"{directory}/Ideal_Bool_Dimensions_Daily.jpg\",\n",
    "                                       m=288)"
   ]
  },
  {
   "cell_type": "code",
   "execution_count": null,
   "id": "1754f389",
   "metadata": {},
   "outputs": [],
   "source": [
    "final_data[columns].to_csv(f\"{directory}/bool_df_reduced_daily.csv\")"
   ]
  },
  {
   "cell_type": "markdown",
   "id": "1dac4532",
   "metadata": {},
   "source": [
    "### MPS Calculation Using Constraint Algorithm For Reduced Bool Dimensions (Daily Rhythm)"
   ]
  },
  {
   "cell_type": "code",
   "execution_count": null,
   "id": "df5073c3",
   "metadata": {},
   "outputs": [],
   "source": [
    "mps, indices = mps_calculations_mstump(final_data[columns], \n",
    "                                         f\"{directory}/Reduced_Bool_Dimensions_mstump_Daily.jpg\", \n",
    "                                         m=288)"
   ]
  },
  {
   "cell_type": "markdown",
   "id": "122a5589",
   "metadata": {},
   "source": [
    "### MPS Calculation Using Constraint Algorithm For All Decimal Dimensions (Daily Rhythm)"
   ]
  },
  {
   "cell_type": "code",
   "execution_count": null,
   "id": "4e598904",
   "metadata": {},
   "outputs": [],
   "source": [
    "mps, indices = mps_calculations_mstump(final_data[decimal_columns], \n",
    "                                         f\"{directory}/All_Decimal_Dimensions_mstump_Daily.jpg\", \n",
    "                                         m=288)"
   ]
  },
  {
   "cell_type": "markdown",
   "id": "7b770b4a",
   "metadata": {},
   "source": [
    "### Dimensionality Reduction Using MDLs for Decimal Dimensions (Daily Rhythm)"
   ]
  },
  {
   "cell_type": "code",
   "execution_count": null,
   "id": "1dfea559",
   "metadata": {},
   "outputs": [],
   "source": [
    "columns = calculate_and_visualize_mdls(final_data[decimal_columns], mps, indices, \n",
    "                                       f\"{directory}/Ideal_Decimal_Dimensions_Daily.jpg\", \n",
    "                                       m=288)"
   ]
  },
  {
   "cell_type": "code",
   "execution_count": null,
   "id": "73fe7a6f",
   "metadata": {},
   "outputs": [],
   "source": [
    "final_data[columns].to_csv(f\"{directory}/Decimal_df_reduced_daily.csv\")"
   ]
  },
  {
   "cell_type": "markdown",
   "id": "6fbf85e5",
   "metadata": {},
   "source": [
    "### MPS Calculation Using Constraint Algorithm For Reduced Decimal Dimensions (Daily Rhythm)"
   ]
  },
  {
   "cell_type": "code",
   "execution_count": null,
   "id": "2f10ad95",
   "metadata": {
    "scrolled": true
   },
   "outputs": [],
   "source": [
    "mps, indices = mps_calculations_mstump(final_data[columns], \n",
    "                                         f\"{directory}/Reduced_Decimal_Dimensions_mstump_Daily.jpg\", \n",
    "                                         m=288)"
   ]
  },
  {
   "cell_type": "code",
   "execution_count": null,
   "id": "85405116",
   "metadata": {},
   "outputs": [],
   "source": []
  }
 ],
 "metadata": {
  "kernelspec": {
   "display_name": "Python 3 (ipykernel)",
   "language": "python",
   "name": "python3"
  },
  "language_info": {
   "codemirror_mode": {
    "name": "ipython",
    "version": 3
   },
   "file_extension": ".py",
   "mimetype": "text/x-python",
   "name": "python",
   "nbconvert_exporter": "python",
   "pygments_lexer": "ipython3",
   "version": "3.9.16"
  }
 },
 "nbformat": 4,
 "nbformat_minor": 5
}
